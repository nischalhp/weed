{
 "cells": [
  {
   "cell_type": "code",
   "execution_count": 2,
   "metadata": {
    "collapsed": true
   },
   "outputs": [],
   "source": [
    "import pandas as pd\n",
    "import numpy as np\n",
    "from scipy import stats\n",
    "import matplotlib.pyplot as plt"
   ]
  },
  {
   "cell_type": "code",
   "execution_count": 3,
   "metadata": {
    "collapsed": false
   },
   "outputs": [],
   "source": [
    "csv_df = pd.DataFrame.from_csv(\"marijuana-street-price-clean.csv\",header=0,index_col=False,sep=',')"
   ]
  },
  {
   "cell_type": "code",
   "execution_count": 4,
   "metadata": {
    "collapsed": false
   },
   "outputs": [],
   "source": [
    "#csv_df.head"
   ]
  },
  {
   "cell_type": "code",
   "execution_count": 5,
   "metadata": {
    "collapsed": false
   },
   "outputs": [],
   "source": [
    "csv_df_sort = csv_df.sort(columns=['State','date'])"
   ]
  },
  {
   "cell_type": "code",
   "execution_count": 6,
   "metadata": {
    "collapsed": true
   },
   "outputs": [],
   "source": [
    "# let us count the number of entries in each column"
   ]
  },
  {
   "cell_type": "code",
   "execution_count": 7,
   "metadata": {
    "collapsed": false
   },
   "outputs": [
    {
     "data": {
      "text/plain": [
       "State     22899\n",
       "HighQ     22899\n",
       "HighQN    22899\n",
       "MedQ      22899\n",
       "MedQN     22899\n",
       "LowQ      12342\n",
       "LowQN     22899\n",
       "date      22899\n",
       "dtype: int64"
      ]
     },
     "execution_count": 7,
     "metadata": {},
     "output_type": "execute_result"
    }
   ],
   "source": [
    "csv_df_sort.count()"
   ]
  },
  {
   "cell_type": "code",
   "execution_count": 8,
   "metadata": {
    "collapsed": true
   },
   "outputs": [],
   "source": [
    "# we see that LowQ does not match the number of entries and this a common problem in time series analysis\n",
    "# lets fill up the Nan value with the last known best value so that we can work on continuing time series analysis"
   ]
  },
  {
   "cell_type": "code",
   "execution_count": 9,
   "metadata": {
    "collapsed": false
   },
   "outputs": [],
   "source": [
    "csv_df_sort_fillna_ffil = csv_df_sort.fillna(method='ffill')"
   ]
  },
  {
   "cell_type": "code",
   "execution_count": 10,
   "metadata": {
    "collapsed": false
   },
   "outputs": [
    {
     "data": {
      "text/plain": [
       "State     22899\n",
       "HighQ     22899\n",
       "HighQN    22899\n",
       "MedQ      22899\n",
       "MedQN     22899\n",
       "LowQ      22899\n",
       "LowQN     22899\n",
       "date      22899\n",
       "dtype: int64"
      ]
     },
     "execution_count": 10,
     "metadata": {},
     "output_type": "execute_result"
    }
   ],
   "source": [
    "csv_df_sort_fillna_ffil.count()"
   ]
  },
  {
   "cell_type": "code",
   "execution_count": 11,
   "metadata": {
    "collapsed": true
   },
   "outputs": [],
   "source": [
    "#now we have cleaned data set to work with"
   ]
  },
  {
   "cell_type": "code",
   "execution_count": 12,
   "metadata": {
    "collapsed": false
   },
   "outputs": [],
   "source": [
    "global_mean_HighQ = csv_df_sort_fillna_ffil['HighQ'].mean()"
   ]
  },
  {
   "cell_type": "code",
   "execution_count": 13,
   "metadata": {
    "collapsed": false
   },
   "outputs": [
    {
     "data": {
      "text/plain": [
       "329.75985414210226"
      ]
     },
     "execution_count": 13,
     "metadata": {},
     "output_type": "execute_result"
    }
   ],
   "source": [
    "global_mean_HighQ"
   ]
  },
  {
   "cell_type": "code",
   "execution_count": 14,
   "metadata": {
    "collapsed": true
   },
   "outputs": [],
   "source": [
    "#now that we have the global mean, we can find how far the values of mean are for each state from global mean"
   ]
  },
  {
   "cell_type": "code",
   "execution_count": 15,
   "metadata": {
    "collapsed": false
   },
   "outputs": [
    {
     "name": "stdout",
     "output_type": "stream",
     "text": [
      "<class 'pandas.core.frame.DataFrame'>\n"
     ]
    }
   ],
   "source": [
    "print type(csv_df_sort_fillna_ffil.head())"
   ]
  },
  {
   "cell_type": "code",
   "execution_count": 16,
   "metadata": {
    "collapsed": false
   },
   "outputs": [],
   "source": [
    "#group_by_state.get_group(('Alabama'))\n",
    "# to check values for a given group\n",
    "# now lets use agg function to get generate Mean,Median,Standard deviation,Variance and covariance for every state"
   ]
  },
  {
   "cell_type": "code",
   "execution_count": 17,
   "metadata": {
    "collapsed": false
   },
   "outputs": [],
   "source": [
    "basic_measures_state_wise_df = pd.DataFrame()"
   ]
  },
  {
   "cell_type": "code",
   "execution_count": 18,
   "metadata": {
    "collapsed": false
   },
   "outputs": [
    {
     "data": {
      "text/plain": [
       "\"\\nunique_states = pd.unique(csv_df_sort_fillna_ffil['State'].ravel())\\nfor state in unique_states:\\n    state_df = csv_df_sort_fillna_ffil.loc[csv_df_sort_fillna_ffil['State'] == state]\\n    highq_df = state_df.groupby(['State'])['HighQ'].agg([np.mean,np.median,np.std,np.var,np.cov])\\n    highq_df.head()\\n    lowq_df = state_df.groupby(['State'],)['LowQ'].agg([np.mean,np.median,np.std,np.var,np.cov])\\n    highq_df = highq_df.rename(columns={'mean':'HighQ_Mean','median':'HighQ_Median','std':'HighQ_Std','var':'HighQ_Var','cov':'HighQ_Cov'})\\n    lowq_df = lowq_df.rename(columns={'mean':'LowQ_Mean','median':'LowQ_Median','std':'LowQ_Std','var':'LowQ_Var','cov':'LowQ_Cov'})\\n    highq_df['State'] = state\\n    lowq_df['State'] = state\\n    break\\n\""
      ]
     },
     "execution_count": 18,
     "metadata": {},
     "output_type": "execute_result"
    }
   ],
   "source": [
    "#lets get all the unique states in the data frame and construct the measures for each state\n",
    "# normal method\n",
    "'''\n",
    "unique_states = pd.unique(csv_df_sort_fillna_ffil['State'].ravel())\n",
    "for state in unique_states:\n",
    "    state_df = csv_df_sort_fillna_ffil.loc[csv_df_sort_fillna_ffil['State'] == state]\n",
    "    highq_df = state_df.groupby(['State'])['HighQ'].agg([np.mean,np.median,np.std,np.var,np.cov])\n",
    "    highq_df.head()\n",
    "    lowq_df = state_df.groupby(['State'],)['LowQ'].agg([np.mean,np.median,np.std,np.var,np.cov])\n",
    "    highq_df = highq_df.rename(columns={'mean':'HighQ_Mean','median':'HighQ_Median','std':'HighQ_Std','var':'HighQ_Var','cov':'HighQ_Cov'})\n",
    "    lowq_df = lowq_df.rename(columns={'mean':'LowQ_Mean','median':'LowQ_Median','std':'LowQ_Std','var':'LowQ_Var','cov':'LowQ_Cov'})\n",
    "    highq_df['State'] = state\n",
    "    lowq_df['State'] = state\n",
    "    break\n",
    "'''"
   ]
  },
  {
   "cell_type": "code",
   "execution_count": 19,
   "metadata": {
    "collapsed": false
   },
   "outputs": [
    {
     "data": {
      "text/html": [
       "<div>\n",
       "<table border=\"1\" class=\"dataframe\">\n",
       "  <thead>\n",
       "    <tr style=\"text-align: right;\">\n",
       "      <th></th>\n",
       "      <th>State</th>\n",
       "      <th>HighQ</th>\n",
       "      <th>HighQN</th>\n",
       "      <th>MedQ</th>\n",
       "      <th>MedQN</th>\n",
       "      <th>LowQ</th>\n",
       "      <th>LowQN</th>\n",
       "      <th>date</th>\n",
       "    </tr>\n",
       "  </thead>\n",
       "  <tbody>\n",
       "    <tr>\n",
       "      <th>20094</th>\n",
       "      <td>Alabama</td>\n",
       "      <td>339.65</td>\n",
       "      <td>1033</td>\n",
       "      <td>198.04</td>\n",
       "      <td>926</td>\n",
       "      <td>147.15</td>\n",
       "      <td>122</td>\n",
       "      <td>2013-12-27</td>\n",
       "    </tr>\n",
       "    <tr>\n",
       "      <th>20859</th>\n",
       "      <td>Alabama</td>\n",
       "      <td>339.65</td>\n",
       "      <td>1033</td>\n",
       "      <td>198.04</td>\n",
       "      <td>926</td>\n",
       "      <td>147.15</td>\n",
       "      <td>122</td>\n",
       "      <td>2013-12-28</td>\n",
       "    </tr>\n",
       "    <tr>\n",
       "      <th>21573</th>\n",
       "      <td>Alabama</td>\n",
       "      <td>339.75</td>\n",
       "      <td>1036</td>\n",
       "      <td>198.26</td>\n",
       "      <td>929</td>\n",
       "      <td>149.49</td>\n",
       "      <td>123</td>\n",
       "      <td>2013-12-29</td>\n",
       "    </tr>\n",
       "    <tr>\n",
       "      <th>22287</th>\n",
       "      <td>Alabama</td>\n",
       "      <td>339.75</td>\n",
       "      <td>1036</td>\n",
       "      <td>198.81</td>\n",
       "      <td>930</td>\n",
       "      <td>149.49</td>\n",
       "      <td>123</td>\n",
       "      <td>2013-12-30</td>\n",
       "    </tr>\n",
       "    <tr>\n",
       "      <th>22797</th>\n",
       "      <td>Alabama</td>\n",
       "      <td>339.42</td>\n",
       "      <td>1040</td>\n",
       "      <td>198.68</td>\n",
       "      <td>932</td>\n",
       "      <td>149.49</td>\n",
       "      <td>123</td>\n",
       "      <td>2013-12-31</td>\n",
       "    </tr>\n",
       "  </tbody>\n",
       "</table>\n",
       "</div>"
      ],
      "text/plain": [
       "         State   HighQ  HighQN    MedQ  MedQN    LowQ  LowQN        date\n",
       "20094  Alabama  339.65    1033  198.04    926  147.15    122  2013-12-27\n",
       "20859  Alabama  339.65    1033  198.04    926  147.15    122  2013-12-28\n",
       "21573  Alabama  339.75    1036  198.26    929  149.49    123  2013-12-29\n",
       "22287  Alabama  339.75    1036  198.81    930  149.49    123  2013-12-30\n",
       "22797  Alabama  339.42    1040  198.68    932  149.49    123  2013-12-31"
      ]
     },
     "execution_count": 19,
     "metadata": {},
     "output_type": "execute_result"
    }
   ],
   "source": [
    "csv_df_sort_fillna_ffil.head()"
   ]
  },
  {
   "cell_type": "code",
   "execution_count": 20,
   "metadata": {
    "collapsed": false
   },
   "outputs": [
    {
     "name": "stdout",
     "output_type": "stream",
     "text": [
      "<class 'pandas.core.frame.DataFrame'>\n",
      "<class 'pandas.core.frame.DataFrame'>\n"
     ]
    },
    {
     "data": {
      "text/html": [
       "<div>\n",
       "<table border=\"1\" class=\"dataframe\">\n",
       "  <thead>\n",
       "    <tr style=\"text-align: right;\">\n",
       "      <th></th>\n",
       "      <th>State</th>\n",
       "      <th>HighQ_Mean</th>\n",
       "      <th>HighQ_Std</th>\n",
       "      <th>HighQ_Mode</th>\n",
       "      <th>HighQ_Var</th>\n",
       "      <th>HighQ_Median</th>\n",
       "      <th>LowQ_Std</th>\n",
       "      <th>LowQ_Mode</th>\n",
       "      <th>LowQ_Mean</th>\n",
       "      <th>LowQ_Var</th>\n",
       "      <th>LowQ_Median</th>\n",
       "    </tr>\n",
       "  </thead>\n",
       "  <tbody>\n",
       "    <tr>\n",
       "      <th>0</th>\n",
       "      <td>Alabama</td>\n",
       "      <td>339.561849</td>\n",
       "      <td>1.539724</td>\n",
       "      <td>([337.32], [10.0])</td>\n",
       "      <td>2.370749</td>\n",
       "      <td>340.10</td>\n",
       "      <td>2.073186</td>\n",
       "      <td>([144.98], [216.0])</td>\n",
       "      <td>145.978508</td>\n",
       "      <td>4.298099</td>\n",
       "      <td>144.98</td>\n",
       "    </tr>\n",
       "    <tr>\n",
       "      <th>1</th>\n",
       "      <td>Alaska</td>\n",
       "      <td>291.482004</td>\n",
       "      <td>5.580105</td>\n",
       "      <td>([285.65], [19.0])</td>\n",
       "      <td>31.137567</td>\n",
       "      <td>289.81</td>\n",
       "      <td>13.188305</td>\n",
       "      <td>([403.33], [237.0])</td>\n",
       "      <td>394.653964</td>\n",
       "      <td>173.931381</td>\n",
       "      <td>403.33</td>\n",
       "    </tr>\n",
       "    <tr>\n",
       "      <th>2</th>\n",
       "      <td>Arizona</td>\n",
       "      <td>300.667483</td>\n",
       "      <td>2.015750</td>\n",
       "      <td>([300.37], [10.0])</td>\n",
       "      <td>4.063247</td>\n",
       "      <td>300.46</td>\n",
       "      <td>3.961371</td>\n",
       "      <td>([185.78], [213.0])</td>\n",
       "      <td>188.500134</td>\n",
       "      <td>15.692461</td>\n",
       "      <td>185.78</td>\n",
       "    </tr>\n",
       "    <tr>\n",
       "      <th>3</th>\n",
       "      <td>Arkansas</td>\n",
       "      <td>348.056147</td>\n",
       "      <td>6.866002</td>\n",
       "      <td>([349.29], [11.0])</td>\n",
       "      <td>47.141986</td>\n",
       "      <td>348.21</td>\n",
       "      <td>1.172681</td>\n",
       "      <td>([126.1], [219.0])</td>\n",
       "      <td>126.771269</td>\n",
       "      <td>1.375181</td>\n",
       "      <td>126.10</td>\n",
       "    </tr>\n",
       "    <tr>\n",
       "      <th>4</th>\n",
       "      <td>California</td>\n",
       "      <td>245.376125</td>\n",
       "      <td>1.727046</td>\n",
       "      <td>([245.03], [8.0])</td>\n",
       "      <td>2.982686</td>\n",
       "      <td>245.31</td>\n",
       "      <td>1.598252</td>\n",
       "      <td>([188.6], [211.0])</td>\n",
       "      <td>189.783586</td>\n",
       "      <td>2.554409</td>\n",
       "      <td>188.60</td>\n",
       "    </tr>\n",
       "  </tbody>\n",
       "</table>\n",
       "</div>"
      ],
      "text/plain": [
       "        State  HighQ_Mean  HighQ_Std          HighQ_Mode  HighQ_Var  \\\n",
       "0     Alabama  339.561849   1.539724  ([337.32], [10.0])   2.370749   \n",
       "1      Alaska  291.482004   5.580105  ([285.65], [19.0])  31.137567   \n",
       "2     Arizona  300.667483   2.015750  ([300.37], [10.0])   4.063247   \n",
       "3    Arkansas  348.056147   6.866002  ([349.29], [11.0])  47.141986   \n",
       "4  California  245.376125   1.727046   ([245.03], [8.0])   2.982686   \n",
       "\n",
       "   HighQ_Median   LowQ_Std            LowQ_Mode   LowQ_Mean    LowQ_Var  \\\n",
       "0        340.10   2.073186  ([144.98], [216.0])  145.978508    4.298099   \n",
       "1        289.81  13.188305  ([403.33], [237.0])  394.653964  173.931381   \n",
       "2        300.46   3.961371  ([185.78], [213.0])  188.500134   15.692461   \n",
       "3        348.21   1.172681   ([126.1], [219.0])  126.771269    1.375181   \n",
       "4        245.31   1.598252   ([188.6], [211.0])  189.783586    2.554409   \n",
       "\n",
       "   LowQ_Median  \n",
       "0       144.98  \n",
       "1       403.33  \n",
       "2       185.78  \n",
       "3       126.10  \n",
       "4       188.60  "
      ]
     },
     "execution_count": 20,
     "metadata": {},
     "output_type": "execute_result"
    }
   ],
   "source": [
    "statistics_df = pd.DataFrame(csv_df_sort_fillna_ffil.groupby(['State'],as_index=False).aggregate({'HighQ': {'HighQ_Mean': np.mean,'HighQ_Median':np.median,'HighQ_Mode':stats.mode,'HighQ_Std':np.std,'HighQ_Var':np.var},'LowQ':{'LowQ_Mean':np.mean,'LowQ_Median':np.median,'LowQ_Mode':stats.mode,'LowQ_Std':np.std,'LowQ_Var':np.var}}))\n",
    "print type(statistics_df)\n",
    "statistics_df = statistics_df.rename(columns={'':'State'})\n",
    "print type(statistics_df)\n",
    "statistics_df.columns = statistics_df.columns.droplevel(0)\n",
    "statistics_df.head()"
   ]
  },
  {
   "cell_type": "code",
   "execution_count": 21,
   "metadata": {
    "collapsed": true
   },
   "outputs": [],
   "source": [
    "#let us now read demographics data into a dataframe "
   ]
  },
  {
   "cell_type": "code",
   "execution_count": 22,
   "metadata": {
    "collapsed": true
   },
   "outputs": [],
   "source": [
    "demographics_df = pd.DataFrame.from_csv(\"Demographics_State.csv\",header=0,index_col=False,sep=',')"
   ]
  },
  {
   "cell_type": "code",
   "execution_count": 23,
   "metadata": {
    "collapsed": false
   },
   "outputs": [
    {
     "data": {
      "text/html": [
       "<div>\n",
       "<table border=\"1\" class=\"dataframe\">\n",
       "  <thead>\n",
       "    <tr style=\"text-align: right;\">\n",
       "      <th></th>\n",
       "      <th>region</th>\n",
       "      <th>total_population</th>\n",
       "      <th>percent_white</th>\n",
       "      <th>percent_black</th>\n",
       "      <th>percent_asian</th>\n",
       "      <th>percent_hispanic</th>\n",
       "      <th>per_capita_income</th>\n",
       "      <th>median_rent</th>\n",
       "      <th>median_age</th>\n",
       "    </tr>\n",
       "  </thead>\n",
       "  <tbody>\n",
       "    <tr>\n",
       "      <th>0</th>\n",
       "      <td>alabama</td>\n",
       "      <td>4799277</td>\n",
       "      <td>67</td>\n",
       "      <td>26</td>\n",
       "      <td>1</td>\n",
       "      <td>4</td>\n",
       "      <td>23680</td>\n",
       "      <td>501</td>\n",
       "      <td>38.1</td>\n",
       "    </tr>\n",
       "    <tr>\n",
       "      <th>1</th>\n",
       "      <td>alaska</td>\n",
       "      <td>720316</td>\n",
       "      <td>63</td>\n",
       "      <td>3</td>\n",
       "      <td>5</td>\n",
       "      <td>6</td>\n",
       "      <td>32651</td>\n",
       "      <td>978</td>\n",
       "      <td>33.6</td>\n",
       "    </tr>\n",
       "    <tr>\n",
       "      <th>2</th>\n",
       "      <td>arizona</td>\n",
       "      <td>6479703</td>\n",
       "      <td>57</td>\n",
       "      <td>4</td>\n",
       "      <td>3</td>\n",
       "      <td>30</td>\n",
       "      <td>25358</td>\n",
       "      <td>747</td>\n",
       "      <td>36.3</td>\n",
       "    </tr>\n",
       "    <tr>\n",
       "      <th>3</th>\n",
       "      <td>arkansas</td>\n",
       "      <td>2933369</td>\n",
       "      <td>74</td>\n",
       "      <td>15</td>\n",
       "      <td>1</td>\n",
       "      <td>7</td>\n",
       "      <td>22170</td>\n",
       "      <td>480</td>\n",
       "      <td>37.5</td>\n",
       "    </tr>\n",
       "    <tr>\n",
       "      <th>4</th>\n",
       "      <td>california</td>\n",
       "      <td>37659181</td>\n",
       "      <td>40</td>\n",
       "      <td>6</td>\n",
       "      <td>13</td>\n",
       "      <td>38</td>\n",
       "      <td>29527</td>\n",
       "      <td>1119</td>\n",
       "      <td>35.4</td>\n",
       "    </tr>\n",
       "  </tbody>\n",
       "</table>\n",
       "</div>"
      ],
      "text/plain": [
       "       region  total_population  percent_white  percent_black  percent_asian  \\\n",
       "0     alabama           4799277             67             26              1   \n",
       "1      alaska            720316             63              3              5   \n",
       "2     arizona           6479703             57              4              3   \n",
       "3    arkansas           2933369             74             15              1   \n",
       "4  california          37659181             40              6             13   \n",
       "\n",
       "   percent_hispanic  per_capita_income  median_rent  median_age  \n",
       "0                 4              23680          501        38.1  \n",
       "1                 6              32651          978        33.6  \n",
       "2                30              25358          747        36.3  \n",
       "3                 7              22170          480        37.5  \n",
       "4                38              29527         1119        35.4  "
      ]
     },
     "execution_count": 23,
     "metadata": {},
     "output_type": "execute_result"
    }
   ],
   "source": [
    "demographics_df.head()"
   ]
  },
  {
   "cell_type": "code",
   "execution_count": 24,
   "metadata": {
    "collapsed": false
   },
   "outputs": [
    {
     "data": {
      "text/plain": [
       "(51, 9)"
      ]
     },
     "execution_count": 24,
     "metadata": {},
     "output_type": "execute_result"
    }
   ],
   "source": [
    "demographics_df.shape"
   ]
  },
  {
   "cell_type": "code",
   "execution_count": 25,
   "metadata": {
    "collapsed": false
   },
   "outputs": [
    {
     "data": {
      "text/plain": [
       "Index([u'region', u'total_population', u'percent_white', u'percent_black',\n",
       "       u'percent_asian', u'percent_hispanic', u'per_capita_income',\n",
       "       u'median_rent', u'median_age'],\n",
       "      dtype='object')"
      ]
     },
     "execution_count": 25,
     "metadata": {},
     "output_type": "execute_result"
    }
   ],
   "source": [
    "demographics_df.columns"
   ]
  },
  {
   "cell_type": "code",
   "execution_count": 26,
   "metadata": {
    "collapsed": true
   },
   "outputs": [],
   "source": [
    "#let us now read population data into a dataframe"
   ]
  },
  {
   "cell_type": "code",
   "execution_count": 27,
   "metadata": {
    "collapsed": true
   },
   "outputs": [],
   "source": [
    "population_df = pd.DataFrame.from_csv(\"Population_State.csv\",header=0,index_col=False,sep=\",\")"
   ]
  },
  {
   "cell_type": "code",
   "execution_count": 28,
   "metadata": {
    "collapsed": false
   },
   "outputs": [
    {
     "data": {
      "text/html": [
       "<div>\n",
       "<table border=\"1\" class=\"dataframe\">\n",
       "  <thead>\n",
       "    <tr style=\"text-align: right;\">\n",
       "      <th></th>\n",
       "      <th>region</th>\n",
       "      <th>value</th>\n",
       "    </tr>\n",
       "  </thead>\n",
       "  <tbody>\n",
       "    <tr>\n",
       "      <th>0</th>\n",
       "      <td>alabama</td>\n",
       "      <td>4777326</td>\n",
       "    </tr>\n",
       "    <tr>\n",
       "      <th>1</th>\n",
       "      <td>alaska</td>\n",
       "      <td>711139</td>\n",
       "    </tr>\n",
       "    <tr>\n",
       "      <th>2</th>\n",
       "      <td>arizona</td>\n",
       "      <td>6410979</td>\n",
       "    </tr>\n",
       "    <tr>\n",
       "      <th>3</th>\n",
       "      <td>arkansas</td>\n",
       "      <td>2916372</td>\n",
       "    </tr>\n",
       "    <tr>\n",
       "      <th>4</th>\n",
       "      <td>california</td>\n",
       "      <td>37325068</td>\n",
       "    </tr>\n",
       "  </tbody>\n",
       "</table>\n",
       "</div>"
      ],
      "text/plain": [
       "       region     value\n",
       "0     alabama   4777326\n",
       "1      alaska    711139\n",
       "2     arizona   6410979\n",
       "3    arkansas   2916372\n",
       "4  california  37325068"
      ]
     },
     "execution_count": 28,
     "metadata": {},
     "output_type": "execute_result"
    }
   ],
   "source": [
    "population_df.head()"
   ]
  },
  {
   "cell_type": "code",
   "execution_count": 29,
   "metadata": {
    "collapsed": false
   },
   "outputs": [
    {
     "data": {
      "text/plain": [
       "(51, 2)"
      ]
     },
     "execution_count": 29,
     "metadata": {},
     "output_type": "execute_result"
    }
   ],
   "source": [
    "population_df.shape"
   ]
  },
  {
   "cell_type": "code",
   "execution_count": 72,
   "metadata": {
    "collapsed": false
   },
   "outputs": [
    {
     "name": "stdout",
     "output_type": "stream",
     "text": [
      "Object `pd.describe` not found.\n"
     ]
    }
   ],
   "source": []
  },
  {
   "cell_type": "code",
   "execution_count": 73,
   "metadata": {
    "collapsed": false
   },
   "outputs": [],
   "source": [
    "?population_df.describe()"
   ]
  },
  {
   "cell_type": "code",
   "execution_count": 30,
   "metadata": {
    "collapsed": false
   },
   "outputs": [
    {
     "data": {
      "text/plain": [
       "Index([u'region', u'value'], dtype='object')"
      ]
     },
     "execution_count": 30,
     "metadata": {},
     "output_type": "execute_result"
    }
   ],
   "source": [
    "population_df.columns"
   ]
  },
  {
   "cell_type": "code",
   "execution_count": 31,
   "metadata": {
    "collapsed": true
   },
   "outputs": [],
   "source": [
    "#we are now merging demographic and population data into one single data frame\n",
    "#to do this , we are using pandas merge method which allows us to join two data frames like how we do it in sql\n",
    "# we are using inner join and on the column region"
   ]
  },
  {
   "cell_type": "code",
   "execution_count": 32,
   "metadata": {
    "collapsed": false
   },
   "outputs": [],
   "source": [
    "population_demographic_merge_df = pd.merge(demographics_df,population_df,how='inner',on='region')"
   ]
  },
  {
   "cell_type": "code",
   "execution_count": 33,
   "metadata": {
    "collapsed": false
   },
   "outputs": [
    {
     "data": {
      "text/html": [
       "<div>\n",
       "<table border=\"1\" class=\"dataframe\">\n",
       "  <thead>\n",
       "    <tr style=\"text-align: right;\">\n",
       "      <th></th>\n",
       "      <th>region</th>\n",
       "      <th>total_population</th>\n",
       "      <th>percent_white</th>\n",
       "      <th>percent_black</th>\n",
       "      <th>percent_asian</th>\n",
       "      <th>percent_hispanic</th>\n",
       "      <th>per_capita_income</th>\n",
       "      <th>median_rent</th>\n",
       "      <th>median_age</th>\n",
       "      <th>value</th>\n",
       "    </tr>\n",
       "  </thead>\n",
       "  <tbody>\n",
       "    <tr>\n",
       "      <th>0</th>\n",
       "      <td>alabama</td>\n",
       "      <td>4799277</td>\n",
       "      <td>67</td>\n",
       "      <td>26</td>\n",
       "      <td>1</td>\n",
       "      <td>4</td>\n",
       "      <td>23680</td>\n",
       "      <td>501</td>\n",
       "      <td>38.1</td>\n",
       "      <td>4777326</td>\n",
       "    </tr>\n",
       "    <tr>\n",
       "      <th>1</th>\n",
       "      <td>alaska</td>\n",
       "      <td>720316</td>\n",
       "      <td>63</td>\n",
       "      <td>3</td>\n",
       "      <td>5</td>\n",
       "      <td>6</td>\n",
       "      <td>32651</td>\n",
       "      <td>978</td>\n",
       "      <td>33.6</td>\n",
       "      <td>711139</td>\n",
       "    </tr>\n",
       "    <tr>\n",
       "      <th>2</th>\n",
       "      <td>arizona</td>\n",
       "      <td>6479703</td>\n",
       "      <td>57</td>\n",
       "      <td>4</td>\n",
       "      <td>3</td>\n",
       "      <td>30</td>\n",
       "      <td>25358</td>\n",
       "      <td>747</td>\n",
       "      <td>36.3</td>\n",
       "      <td>6410979</td>\n",
       "    </tr>\n",
       "    <tr>\n",
       "      <th>3</th>\n",
       "      <td>arkansas</td>\n",
       "      <td>2933369</td>\n",
       "      <td>74</td>\n",
       "      <td>15</td>\n",
       "      <td>1</td>\n",
       "      <td>7</td>\n",
       "      <td>22170</td>\n",
       "      <td>480</td>\n",
       "      <td>37.5</td>\n",
       "      <td>2916372</td>\n",
       "    </tr>\n",
       "    <tr>\n",
       "      <th>4</th>\n",
       "      <td>california</td>\n",
       "      <td>37659181</td>\n",
       "      <td>40</td>\n",
       "      <td>6</td>\n",
       "      <td>13</td>\n",
       "      <td>38</td>\n",
       "      <td>29527</td>\n",
       "      <td>1119</td>\n",
       "      <td>35.4</td>\n",
       "      <td>37325068</td>\n",
       "    </tr>\n",
       "  </tbody>\n",
       "</table>\n",
       "</div>"
      ],
      "text/plain": [
       "       region  total_population  percent_white  percent_black  percent_asian  \\\n",
       "0     alabama           4799277             67             26              1   \n",
       "1      alaska            720316             63              3              5   \n",
       "2     arizona           6479703             57              4              3   \n",
       "3    arkansas           2933369             74             15              1   \n",
       "4  california          37659181             40              6             13   \n",
       "\n",
       "   percent_hispanic  per_capita_income  median_rent  median_age     value  \n",
       "0                 4              23680          501        38.1   4777326  \n",
       "1                 6              32651          978        33.6    711139  \n",
       "2                30              25358          747        36.3   6410979  \n",
       "3                 7              22170          480        37.5   2916372  \n",
       "4                38              29527         1119        35.4  37325068  "
      ]
     },
     "execution_count": 33,
     "metadata": {},
     "output_type": "execute_result"
    }
   ],
   "source": [
    "population_demographic_merge_df.head()"
   ]
  },
  {
   "cell_type": "code",
   "execution_count": 34,
   "metadata": {
    "collapsed": false
   },
   "outputs": [
    {
     "data": {
      "text/plain": [
       "(51, 10)"
      ]
     },
     "execution_count": 34,
     "metadata": {},
     "output_type": "execute_result"
    }
   ],
   "source": [
    "population_demographic_merge_df.shape"
   ]
  },
  {
   "cell_type": "code",
   "execution_count": 35,
   "metadata": {
    "collapsed": false
   },
   "outputs": [],
   "source": [
    "population_demographic_merge_df = population_demographic_merge_df.rename(columns={'region':'State'})"
   ]
  },
  {
   "cell_type": "code",
   "execution_count": 36,
   "metadata": {
    "collapsed": false
   },
   "outputs": [
    {
     "data": {
      "text/html": [
       "<div>\n",
       "<table border=\"1\" class=\"dataframe\">\n",
       "  <thead>\n",
       "    <tr style=\"text-align: right;\">\n",
       "      <th></th>\n",
       "      <th>State</th>\n",
       "      <th>total_population</th>\n",
       "      <th>percent_white</th>\n",
       "      <th>percent_black</th>\n",
       "      <th>percent_asian</th>\n",
       "      <th>percent_hispanic</th>\n",
       "      <th>per_capita_income</th>\n",
       "      <th>median_rent</th>\n",
       "      <th>median_age</th>\n",
       "      <th>value</th>\n",
       "    </tr>\n",
       "  </thead>\n",
       "  <tbody>\n",
       "    <tr>\n",
       "      <th>0</th>\n",
       "      <td>alabama</td>\n",
       "      <td>4799277</td>\n",
       "      <td>67</td>\n",
       "      <td>26</td>\n",
       "      <td>1</td>\n",
       "      <td>4</td>\n",
       "      <td>23680</td>\n",
       "      <td>501</td>\n",
       "      <td>38.1</td>\n",
       "      <td>4777326</td>\n",
       "    </tr>\n",
       "    <tr>\n",
       "      <th>1</th>\n",
       "      <td>alaska</td>\n",
       "      <td>720316</td>\n",
       "      <td>63</td>\n",
       "      <td>3</td>\n",
       "      <td>5</td>\n",
       "      <td>6</td>\n",
       "      <td>32651</td>\n",
       "      <td>978</td>\n",
       "      <td>33.6</td>\n",
       "      <td>711139</td>\n",
       "    </tr>\n",
       "    <tr>\n",
       "      <th>2</th>\n",
       "      <td>arizona</td>\n",
       "      <td>6479703</td>\n",
       "      <td>57</td>\n",
       "      <td>4</td>\n",
       "      <td>3</td>\n",
       "      <td>30</td>\n",
       "      <td>25358</td>\n",
       "      <td>747</td>\n",
       "      <td>36.3</td>\n",
       "      <td>6410979</td>\n",
       "    </tr>\n",
       "    <tr>\n",
       "      <th>3</th>\n",
       "      <td>arkansas</td>\n",
       "      <td>2933369</td>\n",
       "      <td>74</td>\n",
       "      <td>15</td>\n",
       "      <td>1</td>\n",
       "      <td>7</td>\n",
       "      <td>22170</td>\n",
       "      <td>480</td>\n",
       "      <td>37.5</td>\n",
       "      <td>2916372</td>\n",
       "    </tr>\n",
       "    <tr>\n",
       "      <th>4</th>\n",
       "      <td>california</td>\n",
       "      <td>37659181</td>\n",
       "      <td>40</td>\n",
       "      <td>6</td>\n",
       "      <td>13</td>\n",
       "      <td>38</td>\n",
       "      <td>29527</td>\n",
       "      <td>1119</td>\n",
       "      <td>35.4</td>\n",
       "      <td>37325068</td>\n",
       "    </tr>\n",
       "  </tbody>\n",
       "</table>\n",
       "</div>"
      ],
      "text/plain": [
       "        State  total_population  percent_white  percent_black  percent_asian  \\\n",
       "0     alabama           4799277             67             26              1   \n",
       "1      alaska            720316             63              3              5   \n",
       "2     arizona           6479703             57              4              3   \n",
       "3    arkansas           2933369             74             15              1   \n",
       "4  california          37659181             40              6             13   \n",
       "\n",
       "   percent_hispanic  per_capita_income  median_rent  median_age     value  \n",
       "0                 4              23680          501        38.1   4777326  \n",
       "1                 6              32651          978        33.6    711139  \n",
       "2                30              25358          747        36.3   6410979  \n",
       "3                 7              22170          480        37.5   2916372  \n",
       "4                38              29527         1119        35.4  37325068  "
      ]
     },
     "execution_count": 36,
     "metadata": {},
     "output_type": "execute_result"
    }
   ],
   "source": [
    "population_demographic_merge_df.head()"
   ]
  },
  {
   "cell_type": "code",
   "execution_count": 37,
   "metadata": {
    "collapsed": false
   },
   "outputs": [],
   "source": [
    "statistics_population_demographic_merge_df = pd.merge(population_demographic_merge_df,statistics_df,how='inner',on='State')"
   ]
  },
  {
   "cell_type": "code",
   "execution_count": 38,
   "metadata": {
    "collapsed": false
   },
   "outputs": [
    {
     "data": {
      "text/html": [
       "<div>\n",
       "<table border=\"1\" class=\"dataframe\">\n",
       "  <thead>\n",
       "    <tr style=\"text-align: right;\">\n",
       "      <th></th>\n",
       "      <th>State</th>\n",
       "      <th>total_population</th>\n",
       "      <th>percent_white</th>\n",
       "      <th>percent_black</th>\n",
       "      <th>percent_asian</th>\n",
       "      <th>percent_hispanic</th>\n",
       "      <th>per_capita_income</th>\n",
       "      <th>median_rent</th>\n",
       "      <th>median_age</th>\n",
       "      <th>value</th>\n",
       "      <th>HighQ_Mean</th>\n",
       "      <th>HighQ_Std</th>\n",
       "      <th>HighQ_Mode</th>\n",
       "      <th>HighQ_Var</th>\n",
       "      <th>HighQ_Median</th>\n",
       "      <th>LowQ_Std</th>\n",
       "      <th>LowQ_Mode</th>\n",
       "      <th>LowQ_Mean</th>\n",
       "      <th>LowQ_Var</th>\n",
       "      <th>LowQ_Median</th>\n",
       "    </tr>\n",
       "  </thead>\n",
       "  <tbody>\n",
       "  </tbody>\n",
       "</table>\n",
       "</div>"
      ],
      "text/plain": [
       "Empty DataFrame\n",
       "Columns: [State, total_population, percent_white, percent_black, percent_asian, percent_hispanic, per_capita_income, median_rent, median_age, value, HighQ_Mean, HighQ_Std, HighQ_Mode, HighQ_Var, HighQ_Median, LowQ_Std, LowQ_Mode, LowQ_Mean, LowQ_Var, LowQ_Median]\n",
       "Index: []"
      ]
     },
     "execution_count": 38,
     "metadata": {},
     "output_type": "execute_result"
    }
   ],
   "source": [
    "statistics_population_demographic_merge_df.head()"
   ]
  },
  {
   "cell_type": "code",
   "execution_count": 39,
   "metadata": {
    "collapsed": true
   },
   "outputs": [],
   "source": [
    "#the reason why there are no entries here is because in the population demographic df the States are in lower case\n",
    "# let us now change the States to lower case in statistics df too"
   ]
  },
  {
   "cell_type": "code",
   "execution_count": 40,
   "metadata": {
    "collapsed": false
   },
   "outputs": [
    {
     "data": {
      "text/html": [
       "<div>\n",
       "<table border=\"1\" class=\"dataframe\">\n",
       "  <thead>\n",
       "    <tr style=\"text-align: right;\">\n",
       "      <th></th>\n",
       "      <th>State</th>\n",
       "      <th>HighQ_Mean</th>\n",
       "      <th>HighQ_Std</th>\n",
       "      <th>HighQ_Mode</th>\n",
       "      <th>HighQ_Var</th>\n",
       "      <th>HighQ_Median</th>\n",
       "      <th>LowQ_Std</th>\n",
       "      <th>LowQ_Mode</th>\n",
       "      <th>LowQ_Mean</th>\n",
       "      <th>LowQ_Var</th>\n",
       "      <th>LowQ_Median</th>\n",
       "    </tr>\n",
       "  </thead>\n",
       "  <tbody>\n",
       "    <tr>\n",
       "      <th>0</th>\n",
       "      <td>Alabama</td>\n",
       "      <td>339.561849</td>\n",
       "      <td>1.539724</td>\n",
       "      <td>([337.32], [10.0])</td>\n",
       "      <td>2.370749</td>\n",
       "      <td>340.10</td>\n",
       "      <td>2.073186</td>\n",
       "      <td>([144.98], [216.0])</td>\n",
       "      <td>145.978508</td>\n",
       "      <td>4.298099</td>\n",
       "      <td>144.98</td>\n",
       "    </tr>\n",
       "    <tr>\n",
       "      <th>1</th>\n",
       "      <td>Alaska</td>\n",
       "      <td>291.482004</td>\n",
       "      <td>5.580105</td>\n",
       "      <td>([285.65], [19.0])</td>\n",
       "      <td>31.137567</td>\n",
       "      <td>289.81</td>\n",
       "      <td>13.188305</td>\n",
       "      <td>([403.33], [237.0])</td>\n",
       "      <td>394.653964</td>\n",
       "      <td>173.931381</td>\n",
       "      <td>403.33</td>\n",
       "    </tr>\n",
       "    <tr>\n",
       "      <th>2</th>\n",
       "      <td>Arizona</td>\n",
       "      <td>300.667483</td>\n",
       "      <td>2.015750</td>\n",
       "      <td>([300.37], [10.0])</td>\n",
       "      <td>4.063247</td>\n",
       "      <td>300.46</td>\n",
       "      <td>3.961371</td>\n",
       "      <td>([185.78], [213.0])</td>\n",
       "      <td>188.500134</td>\n",
       "      <td>15.692461</td>\n",
       "      <td>185.78</td>\n",
       "    </tr>\n",
       "    <tr>\n",
       "      <th>3</th>\n",
       "      <td>Arkansas</td>\n",
       "      <td>348.056147</td>\n",
       "      <td>6.866002</td>\n",
       "      <td>([349.29], [11.0])</td>\n",
       "      <td>47.141986</td>\n",
       "      <td>348.21</td>\n",
       "      <td>1.172681</td>\n",
       "      <td>([126.1], [219.0])</td>\n",
       "      <td>126.771269</td>\n",
       "      <td>1.375181</td>\n",
       "      <td>126.10</td>\n",
       "    </tr>\n",
       "    <tr>\n",
       "      <th>4</th>\n",
       "      <td>California</td>\n",
       "      <td>245.376125</td>\n",
       "      <td>1.727046</td>\n",
       "      <td>([245.03], [8.0])</td>\n",
       "      <td>2.982686</td>\n",
       "      <td>245.31</td>\n",
       "      <td>1.598252</td>\n",
       "      <td>([188.6], [211.0])</td>\n",
       "      <td>189.783586</td>\n",
       "      <td>2.554409</td>\n",
       "      <td>188.60</td>\n",
       "    </tr>\n",
       "  </tbody>\n",
       "</table>\n",
       "</div>"
      ],
      "text/plain": [
       "        State  HighQ_Mean  HighQ_Std          HighQ_Mode  HighQ_Var  \\\n",
       "0     Alabama  339.561849   1.539724  ([337.32], [10.0])   2.370749   \n",
       "1      Alaska  291.482004   5.580105  ([285.65], [19.0])  31.137567   \n",
       "2     Arizona  300.667483   2.015750  ([300.37], [10.0])   4.063247   \n",
       "3    Arkansas  348.056147   6.866002  ([349.29], [11.0])  47.141986   \n",
       "4  California  245.376125   1.727046   ([245.03], [8.0])   2.982686   \n",
       "\n",
       "   HighQ_Median   LowQ_Std            LowQ_Mode   LowQ_Mean    LowQ_Var  \\\n",
       "0        340.10   2.073186  ([144.98], [216.0])  145.978508    4.298099   \n",
       "1        289.81  13.188305  ([403.33], [237.0])  394.653964  173.931381   \n",
       "2        300.46   3.961371  ([185.78], [213.0])  188.500134   15.692461   \n",
       "3        348.21   1.172681   ([126.1], [219.0])  126.771269    1.375181   \n",
       "4        245.31   1.598252   ([188.6], [211.0])  189.783586    2.554409   \n",
       "\n",
       "   LowQ_Median  \n",
       "0       144.98  \n",
       "1       403.33  \n",
       "2       185.78  \n",
       "3       126.10  \n",
       "4       188.60  "
      ]
     },
     "execution_count": 40,
     "metadata": {},
     "output_type": "execute_result"
    }
   ],
   "source": [
    "statistics_df.head()"
   ]
  },
  {
   "cell_type": "code",
   "execution_count": 41,
   "metadata": {
    "collapsed": false
   },
   "outputs": [
    {
     "data": {
      "text/html": [
       "<div>\n",
       "<table border=\"1\" class=\"dataframe\">\n",
       "  <thead>\n",
       "    <tr style=\"text-align: right;\">\n",
       "      <th></th>\n",
       "      <th>State</th>\n",
       "      <th>HighQ_Mean</th>\n",
       "      <th>HighQ_Std</th>\n",
       "      <th>HighQ_Mode</th>\n",
       "      <th>HighQ_Var</th>\n",
       "      <th>HighQ_Median</th>\n",
       "      <th>LowQ_Std</th>\n",
       "      <th>LowQ_Mode</th>\n",
       "      <th>LowQ_Mean</th>\n",
       "      <th>LowQ_Var</th>\n",
       "      <th>LowQ_Median</th>\n",
       "    </tr>\n",
       "  </thead>\n",
       "  <tbody>\n",
       "    <tr>\n",
       "      <th>0</th>\n",
       "      <td>alabama</td>\n",
       "      <td>339.561849</td>\n",
       "      <td>1.539724</td>\n",
       "      <td>([337.32], [10.0])</td>\n",
       "      <td>2.370749</td>\n",
       "      <td>340.10</td>\n",
       "      <td>2.073186</td>\n",
       "      <td>([144.98], [216.0])</td>\n",
       "      <td>145.978508</td>\n",
       "      <td>4.298099</td>\n",
       "      <td>144.98</td>\n",
       "    </tr>\n",
       "    <tr>\n",
       "      <th>1</th>\n",
       "      <td>alaska</td>\n",
       "      <td>291.482004</td>\n",
       "      <td>5.580105</td>\n",
       "      <td>([285.65], [19.0])</td>\n",
       "      <td>31.137567</td>\n",
       "      <td>289.81</td>\n",
       "      <td>13.188305</td>\n",
       "      <td>([403.33], [237.0])</td>\n",
       "      <td>394.653964</td>\n",
       "      <td>173.931381</td>\n",
       "      <td>403.33</td>\n",
       "    </tr>\n",
       "    <tr>\n",
       "      <th>2</th>\n",
       "      <td>arizona</td>\n",
       "      <td>300.667483</td>\n",
       "      <td>2.015750</td>\n",
       "      <td>([300.37], [10.0])</td>\n",
       "      <td>4.063247</td>\n",
       "      <td>300.46</td>\n",
       "      <td>3.961371</td>\n",
       "      <td>([185.78], [213.0])</td>\n",
       "      <td>188.500134</td>\n",
       "      <td>15.692461</td>\n",
       "      <td>185.78</td>\n",
       "    </tr>\n",
       "    <tr>\n",
       "      <th>3</th>\n",
       "      <td>arkansas</td>\n",
       "      <td>348.056147</td>\n",
       "      <td>6.866002</td>\n",
       "      <td>([349.29], [11.0])</td>\n",
       "      <td>47.141986</td>\n",
       "      <td>348.21</td>\n",
       "      <td>1.172681</td>\n",
       "      <td>([126.1], [219.0])</td>\n",
       "      <td>126.771269</td>\n",
       "      <td>1.375181</td>\n",
       "      <td>126.10</td>\n",
       "    </tr>\n",
       "    <tr>\n",
       "      <th>4</th>\n",
       "      <td>california</td>\n",
       "      <td>245.376125</td>\n",
       "      <td>1.727046</td>\n",
       "      <td>([245.03], [8.0])</td>\n",
       "      <td>2.982686</td>\n",
       "      <td>245.31</td>\n",
       "      <td>1.598252</td>\n",
       "      <td>([188.6], [211.0])</td>\n",
       "      <td>189.783586</td>\n",
       "      <td>2.554409</td>\n",
       "      <td>188.60</td>\n",
       "    </tr>\n",
       "  </tbody>\n",
       "</table>\n",
       "</div>"
      ],
      "text/plain": [
       "        State  HighQ_Mean  HighQ_Std          HighQ_Mode  HighQ_Var  \\\n",
       "0     alabama  339.561849   1.539724  ([337.32], [10.0])   2.370749   \n",
       "1      alaska  291.482004   5.580105  ([285.65], [19.0])  31.137567   \n",
       "2     arizona  300.667483   2.015750  ([300.37], [10.0])   4.063247   \n",
       "3    arkansas  348.056147   6.866002  ([349.29], [11.0])  47.141986   \n",
       "4  california  245.376125   1.727046   ([245.03], [8.0])   2.982686   \n",
       "\n",
       "   HighQ_Median   LowQ_Std            LowQ_Mode   LowQ_Mean    LowQ_Var  \\\n",
       "0        340.10   2.073186  ([144.98], [216.0])  145.978508    4.298099   \n",
       "1        289.81  13.188305  ([403.33], [237.0])  394.653964  173.931381   \n",
       "2        300.46   3.961371  ([185.78], [213.0])  188.500134   15.692461   \n",
       "3        348.21   1.172681   ([126.1], [219.0])  126.771269    1.375181   \n",
       "4        245.31   1.598252   ([188.6], [211.0])  189.783586    2.554409   \n",
       "\n",
       "   LowQ_Median  \n",
       "0       144.98  \n",
       "1       403.33  \n",
       "2       185.78  \n",
       "3       126.10  \n",
       "4       188.60  "
      ]
     },
     "execution_count": 41,
     "metadata": {},
     "output_type": "execute_result"
    }
   ],
   "source": [
    "statistics_df['State'] = statistics_df['State'].str.lower()\n",
    "statistics_df.head()"
   ]
  },
  {
   "cell_type": "code",
   "execution_count": 42,
   "metadata": {
    "collapsed": true
   },
   "outputs": [],
   "source": [
    "#now lets merge the data again, the reason we are merging all this data is we are able to look at one state on multiple levels."
   ]
  },
  {
   "cell_type": "code",
   "execution_count": 43,
   "metadata": {
    "collapsed": false
   },
   "outputs": [],
   "source": [
    "stats_pop_dem_merge_df = pd.merge(population_demographic_merge_df,statistics_df,how='inner',on='State')"
   ]
  },
  {
   "cell_type": "code",
   "execution_count": 44,
   "metadata": {
    "collapsed": false
   },
   "outputs": [
    {
     "data": {
      "text/html": [
       "<div>\n",
       "<table border=\"1\" class=\"dataframe\">\n",
       "  <thead>\n",
       "    <tr style=\"text-align: right;\">\n",
       "      <th></th>\n",
       "      <th>State</th>\n",
       "      <th>total_population</th>\n",
       "      <th>percent_white</th>\n",
       "      <th>percent_black</th>\n",
       "      <th>percent_asian</th>\n",
       "      <th>percent_hispanic</th>\n",
       "      <th>per_capita_income</th>\n",
       "      <th>median_rent</th>\n",
       "      <th>median_age</th>\n",
       "      <th>value</th>\n",
       "      <th>HighQ_Mean</th>\n",
       "      <th>HighQ_Std</th>\n",
       "      <th>HighQ_Mode</th>\n",
       "      <th>HighQ_Var</th>\n",
       "      <th>HighQ_Median</th>\n",
       "      <th>LowQ_Std</th>\n",
       "      <th>LowQ_Mode</th>\n",
       "      <th>LowQ_Mean</th>\n",
       "      <th>LowQ_Var</th>\n",
       "      <th>LowQ_Median</th>\n",
       "    </tr>\n",
       "  </thead>\n",
       "  <tbody>\n",
       "    <tr>\n",
       "      <th>0</th>\n",
       "      <td>alabama</td>\n",
       "      <td>4799277</td>\n",
       "      <td>67</td>\n",
       "      <td>26</td>\n",
       "      <td>1</td>\n",
       "      <td>4</td>\n",
       "      <td>23680</td>\n",
       "      <td>501</td>\n",
       "      <td>38.1</td>\n",
       "      <td>4777326</td>\n",
       "      <td>339.561849</td>\n",
       "      <td>1.539724</td>\n",
       "      <td>([337.32], [10.0])</td>\n",
       "      <td>2.370749</td>\n",
       "      <td>340.10</td>\n",
       "      <td>2.073186</td>\n",
       "      <td>([144.98], [216.0])</td>\n",
       "      <td>145.978508</td>\n",
       "      <td>4.298099</td>\n",
       "      <td>144.98</td>\n",
       "    </tr>\n",
       "    <tr>\n",
       "      <th>1</th>\n",
       "      <td>alaska</td>\n",
       "      <td>720316</td>\n",
       "      <td>63</td>\n",
       "      <td>3</td>\n",
       "      <td>5</td>\n",
       "      <td>6</td>\n",
       "      <td>32651</td>\n",
       "      <td>978</td>\n",
       "      <td>33.6</td>\n",
       "      <td>711139</td>\n",
       "      <td>291.482004</td>\n",
       "      <td>5.580105</td>\n",
       "      <td>([285.65], [19.0])</td>\n",
       "      <td>31.137567</td>\n",
       "      <td>289.81</td>\n",
       "      <td>13.188305</td>\n",
       "      <td>([403.33], [237.0])</td>\n",
       "      <td>394.653964</td>\n",
       "      <td>173.931381</td>\n",
       "      <td>403.33</td>\n",
       "    </tr>\n",
       "    <tr>\n",
       "      <th>2</th>\n",
       "      <td>arizona</td>\n",
       "      <td>6479703</td>\n",
       "      <td>57</td>\n",
       "      <td>4</td>\n",
       "      <td>3</td>\n",
       "      <td>30</td>\n",
       "      <td>25358</td>\n",
       "      <td>747</td>\n",
       "      <td>36.3</td>\n",
       "      <td>6410979</td>\n",
       "      <td>300.667483</td>\n",
       "      <td>2.015750</td>\n",
       "      <td>([300.37], [10.0])</td>\n",
       "      <td>4.063247</td>\n",
       "      <td>300.46</td>\n",
       "      <td>3.961371</td>\n",
       "      <td>([185.78], [213.0])</td>\n",
       "      <td>188.500134</td>\n",
       "      <td>15.692461</td>\n",
       "      <td>185.78</td>\n",
       "    </tr>\n",
       "    <tr>\n",
       "      <th>3</th>\n",
       "      <td>arkansas</td>\n",
       "      <td>2933369</td>\n",
       "      <td>74</td>\n",
       "      <td>15</td>\n",
       "      <td>1</td>\n",
       "      <td>7</td>\n",
       "      <td>22170</td>\n",
       "      <td>480</td>\n",
       "      <td>37.5</td>\n",
       "      <td>2916372</td>\n",
       "      <td>348.056147</td>\n",
       "      <td>6.866002</td>\n",
       "      <td>([349.29], [11.0])</td>\n",
       "      <td>47.141986</td>\n",
       "      <td>348.21</td>\n",
       "      <td>1.172681</td>\n",
       "      <td>([126.1], [219.0])</td>\n",
       "      <td>126.771269</td>\n",
       "      <td>1.375181</td>\n",
       "      <td>126.10</td>\n",
       "    </tr>\n",
       "    <tr>\n",
       "      <th>4</th>\n",
       "      <td>california</td>\n",
       "      <td>37659181</td>\n",
       "      <td>40</td>\n",
       "      <td>6</td>\n",
       "      <td>13</td>\n",
       "      <td>38</td>\n",
       "      <td>29527</td>\n",
       "      <td>1119</td>\n",
       "      <td>35.4</td>\n",
       "      <td>37325068</td>\n",
       "      <td>245.376125</td>\n",
       "      <td>1.727046</td>\n",
       "      <td>([245.03], [8.0])</td>\n",
       "      <td>2.982686</td>\n",
       "      <td>245.31</td>\n",
       "      <td>1.598252</td>\n",
       "      <td>([188.6], [211.0])</td>\n",
       "      <td>189.783586</td>\n",
       "      <td>2.554409</td>\n",
       "      <td>188.60</td>\n",
       "    </tr>\n",
       "  </tbody>\n",
       "</table>\n",
       "</div>"
      ],
      "text/plain": [
       "        State  total_population  percent_white  percent_black  percent_asian  \\\n",
       "0     alabama           4799277             67             26              1   \n",
       "1      alaska            720316             63              3              5   \n",
       "2     arizona           6479703             57              4              3   \n",
       "3    arkansas           2933369             74             15              1   \n",
       "4  california          37659181             40              6             13   \n",
       "\n",
       "   percent_hispanic  per_capita_income  median_rent  median_age     value  \\\n",
       "0                 4              23680          501        38.1   4777326   \n",
       "1                 6              32651          978        33.6    711139   \n",
       "2                30              25358          747        36.3   6410979   \n",
       "3                 7              22170          480        37.5   2916372   \n",
       "4                38              29527         1119        35.4  37325068   \n",
       "\n",
       "   HighQ_Mean  HighQ_Std          HighQ_Mode  HighQ_Var  HighQ_Median  \\\n",
       "0  339.561849   1.539724  ([337.32], [10.0])   2.370749        340.10   \n",
       "1  291.482004   5.580105  ([285.65], [19.0])  31.137567        289.81   \n",
       "2  300.667483   2.015750  ([300.37], [10.0])   4.063247        300.46   \n",
       "3  348.056147   6.866002  ([349.29], [11.0])  47.141986        348.21   \n",
       "4  245.376125   1.727046   ([245.03], [8.0])   2.982686        245.31   \n",
       "\n",
       "    LowQ_Std            LowQ_Mode   LowQ_Mean    LowQ_Var  LowQ_Median  \n",
       "0   2.073186  ([144.98], [216.0])  145.978508    4.298099       144.98  \n",
       "1  13.188305  ([403.33], [237.0])  394.653964  173.931381       403.33  \n",
       "2   3.961371  ([185.78], [213.0])  188.500134   15.692461       185.78  \n",
       "3   1.172681   ([126.1], [219.0])  126.771269    1.375181       126.10  \n",
       "4   1.598252   ([188.6], [211.0])  189.783586    2.554409       188.60  "
      ]
     },
     "execution_count": 44,
     "metadata": {},
     "output_type": "execute_result"
    }
   ],
   "source": [
    "stats_pop_dem_merge_df.head()"
   ]
  },
  {
   "cell_type": "code",
   "execution_count": 45,
   "metadata": {
    "collapsed": false
   },
   "outputs": [
    {
     "data": {
      "text/plain": [
       "(51, 20)"
      ]
     },
     "execution_count": 45,
     "metadata": {},
     "output_type": "execute_result"
    }
   ],
   "source": [
    "stats_pop_dem_merge_df.shape"
   ]
  },
  {
   "cell_type": "code",
   "execution_count": 46,
   "metadata": {
    "collapsed": true
   },
   "outputs": [],
   "source": [
    "#so now we have data for 51 states with 20 feature columns. \n",
    "#The data is ready"
   ]
  },
  {
   "cell_type": "code",
   "execution_count": 47,
   "metadata": {
    "collapsed": false
   },
   "outputs": [],
   "source": [
    "white_greater_black = stats_pop_dem_merge_df[stats_pop_dem_merge_df.percent_white > stats_pop_dem_merge_df.percent_black]\n",
    "black_greate_white =  stats_pop_dem_merge_df[stats_pop_dem_merge_df.percent_white < stats_pop_dem_merge_df.percent_black]\n"
   ]
  },
  {
   "cell_type": "code",
   "execution_count": 48,
   "metadata": {
    "collapsed": false
   },
   "outputs": [
    {
     "data": {
      "text/plain": [
       "((50, 20), (1, 20))"
      ]
     },
     "execution_count": 48,
     "metadata": {},
     "output_type": "execute_result"
    }
   ],
   "source": [
    "white_greater_black.shape,black_greate_white.shape"
   ]
  },
  {
   "cell_type": "code",
   "execution_count": 49,
   "metadata": {
    "collapsed": true
   },
   "outputs": [],
   "source": [
    "#given that the white population is high in almost every state, lets not do any comparison use the \n",
    "#percent of whites and blacks"
   ]
  },
  {
   "cell_type": "code",
   "execution_count": 50,
   "metadata": {
    "collapsed": false
   },
   "outputs": [],
   "source": [
    "#let us see if there is a correlation between per capita income and highQ_mean/lowQ_mean\n",
    "correlation_btw_per_capita_highQ = stats.pearsonr(white_greater_black.per_capita_income,white_greater_black.HighQ_Mean)[0]\n",
    "correlation_btw_per_capita_lowQ = stats.pearsonr(white_greater_black.per_capita_income,white_greater_black.LowQ_Mean)[0]"
   ]
  },
  {
   "cell_type": "code",
   "execution_count": 51,
   "metadata": {
    "collapsed": false
   },
   "outputs": [
    {
     "data": {
      "text/plain": [
       "(0.10372726217632158, 0.34288507101733851)"
      ]
     },
     "execution_count": 51,
     "metadata": {},
     "output_type": "execute_result"
    }
   ],
   "source": [
    "correlation_btw_per_capita_highQ,correlation_btw_per_capita_lowQ"
   ]
  },
  {
   "cell_type": "code",
   "execution_count": 52,
   "metadata": {
    "collapsed": true
   },
   "outputs": [],
   "source": [
    "# from this we understand that the value of low quality weed is somewhat affected by per capita income compared to \n",
    "# high quality weed\n",
    "# we can use the same way to compute correlations amognst other attributes too"
   ]
  },
  {
   "cell_type": "code",
   "execution_count": 53,
   "metadata": {
    "collapsed": false
   },
   "outputs": [
    {
     "data": {
      "text/html": [
       "<div>\n",
       "<table border=\"1\" class=\"dataframe\">\n",
       "  <thead>\n",
       "    <tr style=\"text-align: right;\">\n",
       "      <th></th>\n",
       "      <th>State</th>\n",
       "      <th>HighQ</th>\n",
       "      <th>HighQN</th>\n",
       "      <th>MedQ</th>\n",
       "      <th>MedQN</th>\n",
       "      <th>LowQ</th>\n",
       "      <th>LowQN</th>\n",
       "      <th>date</th>\n",
       "    </tr>\n",
       "  </thead>\n",
       "  <tbody>\n",
       "    <tr>\n",
       "      <th>20094</th>\n",
       "      <td>Alabama</td>\n",
       "      <td>339.65</td>\n",
       "      <td>1033</td>\n",
       "      <td>198.04</td>\n",
       "      <td>926</td>\n",
       "      <td>147.15</td>\n",
       "      <td>122</td>\n",
       "      <td>2013-12-27</td>\n",
       "    </tr>\n",
       "    <tr>\n",
       "      <th>20859</th>\n",
       "      <td>Alabama</td>\n",
       "      <td>339.65</td>\n",
       "      <td>1033</td>\n",
       "      <td>198.04</td>\n",
       "      <td>926</td>\n",
       "      <td>147.15</td>\n",
       "      <td>122</td>\n",
       "      <td>2013-12-28</td>\n",
       "    </tr>\n",
       "    <tr>\n",
       "      <th>21573</th>\n",
       "      <td>Alabama</td>\n",
       "      <td>339.75</td>\n",
       "      <td>1036</td>\n",
       "      <td>198.26</td>\n",
       "      <td>929</td>\n",
       "      <td>149.49</td>\n",
       "      <td>123</td>\n",
       "      <td>2013-12-29</td>\n",
       "    </tr>\n",
       "    <tr>\n",
       "      <th>22287</th>\n",
       "      <td>Alabama</td>\n",
       "      <td>339.75</td>\n",
       "      <td>1036</td>\n",
       "      <td>198.81</td>\n",
       "      <td>930</td>\n",
       "      <td>149.49</td>\n",
       "      <td>123</td>\n",
       "      <td>2013-12-30</td>\n",
       "    </tr>\n",
       "    <tr>\n",
       "      <th>22797</th>\n",
       "      <td>Alabama</td>\n",
       "      <td>339.42</td>\n",
       "      <td>1040</td>\n",
       "      <td>198.68</td>\n",
       "      <td>932</td>\n",
       "      <td>149.49</td>\n",
       "      <td>123</td>\n",
       "      <td>2013-12-31</td>\n",
       "    </tr>\n",
       "  </tbody>\n",
       "</table>\n",
       "</div>"
      ],
      "text/plain": [
       "         State   HighQ  HighQN    MedQ  MedQN    LowQ  LowQN        date\n",
       "20094  Alabama  339.65    1033  198.04    926  147.15    122  2013-12-27\n",
       "20859  Alabama  339.65    1033  198.04    926  147.15    122  2013-12-28\n",
       "21573  Alabama  339.75    1036  198.26    929  149.49    123  2013-12-29\n",
       "22287  Alabama  339.75    1036  198.81    930  149.49    123  2013-12-30\n",
       "22797  Alabama  339.42    1040  198.68    932  149.49    123  2013-12-31"
      ]
     },
     "execution_count": 53,
     "metadata": {},
     "output_type": "execute_result"
    }
   ],
   "source": [
    "#before we go any further , lets try to find some interesting growth in weed prices for each state \n",
    "csv_df_sort_fillna_ffil.head()"
   ]
  },
  {
   "cell_type": "code",
   "execution_count": 54,
   "metadata": {
    "collapsed": false
   },
   "outputs": [],
   "source": [
    "country_mean_highQ = csv_df_sort_fillna_ffil.groupby(['date'],as_index=False).aggregate({'HighQ':np.mean})"
   ]
  },
  {
   "cell_type": "code",
   "execution_count": 55,
   "metadata": {
    "collapsed": false
   },
   "outputs": [
    {
     "data": {
      "text/html": [
       "<div>\n",
       "<table border=\"1\" class=\"dataframe\">\n",
       "  <thead>\n",
       "    <tr style=\"text-align: right;\">\n",
       "      <th></th>\n",
       "      <th>date</th>\n",
       "      <th>HighQ</th>\n",
       "    </tr>\n",
       "  </thead>\n",
       "  <tbody>\n",
       "    <tr>\n",
       "      <th>0</th>\n",
       "      <td>2013-12-27</td>\n",
       "      <td>335.498039</td>\n",
       "    </tr>\n",
       "    <tr>\n",
       "      <th>1</th>\n",
       "      <td>2013-12-28</td>\n",
       "      <td>335.494902</td>\n",
       "    </tr>\n",
       "    <tr>\n",
       "      <th>2</th>\n",
       "      <td>2013-12-29</td>\n",
       "      <td>335.582941</td>\n",
       "    </tr>\n",
       "    <tr>\n",
       "      <th>3</th>\n",
       "      <td>2013-12-30</td>\n",
       "      <td>335.490196</td>\n",
       "    </tr>\n",
       "    <tr>\n",
       "      <th>4</th>\n",
       "      <td>2013-12-31</td>\n",
       "      <td>335.505098</td>\n",
       "    </tr>\n",
       "  </tbody>\n",
       "</table>\n",
       "</div>"
      ],
      "text/plain": [
       "         date       HighQ\n",
       "0  2013-12-27  335.498039\n",
       "1  2013-12-28  335.494902\n",
       "2  2013-12-29  335.582941\n",
       "3  2013-12-30  335.490196\n",
       "4  2013-12-31  335.505098"
      ]
     },
     "execution_count": 55,
     "metadata": {},
     "output_type": "execute_result"
    }
   ],
   "source": [
    "country_mean_highQ.head()"
   ]
  },
  {
   "cell_type": "code",
   "execution_count": 56,
   "metadata": {
    "collapsed": false
   },
   "outputs": [
    {
     "data": {
      "text/plain": [
       "'\\nplt.plot(country_mean_highQ.HighQ)\\nplt.xticks(range(len(country_mean_highQ.date)),country_mean_highQ.date)\\nplt.show()\\n'"
      ]
     },
     "execution_count": 56,
     "metadata": {},
     "output_type": "execute_result"
    }
   ],
   "source": [
    "'''\n",
    "plt.plot(country_mean_highQ.HighQ)\n",
    "plt.xticks(range(len(country_mean_highQ.date)),country_mean_highQ.date)\n",
    "plt.show()\n",
    "'''"
   ]
  },
  {
   "cell_type": "code",
   "execution_count": 57,
   "metadata": {
    "collapsed": false
   },
   "outputs": [
    {
     "data": {
      "text/plain": [
       "date     2013-12-27\n",
       "HighQ      322.1294\n",
       "dtype: object"
      ]
     },
     "execution_count": 57,
     "metadata": {},
     "output_type": "execute_result"
    }
   ],
   "source": [
    "country_mean_highQ.min()"
   ]
  },
  {
   "cell_type": "code",
   "execution_count": 58,
   "metadata": {
    "collapsed": true
   },
   "outputs": [],
   "source": [
    "#we just have dates, we need to generate calendar week for each date"
   ]
  },
  {
   "cell_type": "code",
   "execution_count": 59,
   "metadata": {
    "collapsed": true
   },
   "outputs": [],
   "source": [
    "from datetime import datetime\n",
    "# date format in %Y-%m-%d\n",
    "def get_calendar_week(date):\n",
    "    calendar_week = datetime.strptime(date,\"%Y-%m-%d\").isocalendar()[1]\n",
    "    return int(calendar_week)"
   ]
  },
  {
   "cell_type": "code",
   "execution_count": 60,
   "metadata": {
    "collapsed": false
   },
   "outputs": [],
   "source": [
    "# lets add calendar week to the data frame\n",
    "csv_df_sort_fillna_ffil['Calendar_Week'] = csv_df_sort_fillna_ffil['date'].apply(get_calendar_week)"
   ]
  },
  {
   "cell_type": "code",
   "execution_count": 61,
   "metadata": {
    "collapsed": false
   },
   "outputs": [
    {
     "data": {
      "text/html": [
       "<div>\n",
       "<table border=\"1\" class=\"dataframe\">\n",
       "  <thead>\n",
       "    <tr style=\"text-align: right;\">\n",
       "      <th></th>\n",
       "      <th>State</th>\n",
       "      <th>HighQ</th>\n",
       "      <th>HighQN</th>\n",
       "      <th>MedQ</th>\n",
       "      <th>MedQN</th>\n",
       "      <th>LowQ</th>\n",
       "      <th>LowQN</th>\n",
       "      <th>date</th>\n",
       "      <th>Calendar_Week</th>\n",
       "    </tr>\n",
       "  </thead>\n",
       "  <tbody>\n",
       "    <tr>\n",
       "      <th>20094</th>\n",
       "      <td>Alabama</td>\n",
       "      <td>339.65</td>\n",
       "      <td>1033</td>\n",
       "      <td>198.04</td>\n",
       "      <td>926</td>\n",
       "      <td>147.15</td>\n",
       "      <td>122</td>\n",
       "      <td>2013-12-27</td>\n",
       "      <td>52</td>\n",
       "    </tr>\n",
       "    <tr>\n",
       "      <th>20859</th>\n",
       "      <td>Alabama</td>\n",
       "      <td>339.65</td>\n",
       "      <td>1033</td>\n",
       "      <td>198.04</td>\n",
       "      <td>926</td>\n",
       "      <td>147.15</td>\n",
       "      <td>122</td>\n",
       "      <td>2013-12-28</td>\n",
       "      <td>52</td>\n",
       "    </tr>\n",
       "    <tr>\n",
       "      <th>21573</th>\n",
       "      <td>Alabama</td>\n",
       "      <td>339.75</td>\n",
       "      <td>1036</td>\n",
       "      <td>198.26</td>\n",
       "      <td>929</td>\n",
       "      <td>149.49</td>\n",
       "      <td>123</td>\n",
       "      <td>2013-12-29</td>\n",
       "      <td>52</td>\n",
       "    </tr>\n",
       "    <tr>\n",
       "      <th>22287</th>\n",
       "      <td>Alabama</td>\n",
       "      <td>339.75</td>\n",
       "      <td>1036</td>\n",
       "      <td>198.81</td>\n",
       "      <td>930</td>\n",
       "      <td>149.49</td>\n",
       "      <td>123</td>\n",
       "      <td>2013-12-30</td>\n",
       "      <td>1</td>\n",
       "    </tr>\n",
       "    <tr>\n",
       "      <th>22797</th>\n",
       "      <td>Alabama</td>\n",
       "      <td>339.42</td>\n",
       "      <td>1040</td>\n",
       "      <td>198.68</td>\n",
       "      <td>932</td>\n",
       "      <td>149.49</td>\n",
       "      <td>123</td>\n",
       "      <td>2013-12-31</td>\n",
       "      <td>1</td>\n",
       "    </tr>\n",
       "  </tbody>\n",
       "</table>\n",
       "</div>"
      ],
      "text/plain": [
       "         State   HighQ  HighQN    MedQ  MedQN    LowQ  LowQN        date  \\\n",
       "20094  Alabama  339.65    1033  198.04    926  147.15    122  2013-12-27   \n",
       "20859  Alabama  339.65    1033  198.04    926  147.15    122  2013-12-28   \n",
       "21573  Alabama  339.75    1036  198.26    929  149.49    123  2013-12-29   \n",
       "22287  Alabama  339.75    1036  198.81    930  149.49    123  2013-12-30   \n",
       "22797  Alabama  339.42    1040  198.68    932  149.49    123  2013-12-31   \n",
       "\n",
       "       Calendar_Week  \n",
       "20094             52  \n",
       "20859             52  \n",
       "21573             52  \n",
       "22287              1  \n",
       "22797              1  "
      ]
     },
     "execution_count": 61,
     "metadata": {},
     "output_type": "execute_result"
    }
   ],
   "source": [
    "#lets check if it looks fine\n",
    "csv_df_sort_fillna_ffil.head()"
   ]
  },
  {
   "cell_type": "code",
   "execution_count": 66,
   "metadata": {
    "collapsed": false
   },
   "outputs": [
    {
     "name": "stdout",
     "output_type": "stream",
     "text": [
      "Calendar_Week      1.000000\n",
      "HighQ_Mean       326.614174\n",
      "dtype: float64 Calendar_Week     52.000000\n",
      "HighQ_Mean       333.778207\n",
      "dtype: float64\n"
     ]
    }
   ],
   "source": [
    "#now let us try to group at week level and see during which week it was the lowest and for a given state\n",
    "country_week_highQ_df = pd.DataFrame(csv_df_sort_fillna_ffil.groupby(['Calendar_Week'],as_index=False).aggregate({'HighQ':{'HighQ_Mean':np.mean}}))\n",
    "country_week_highQ_df.columns = country_week_highQ_df.columns.droplevel(0)\n",
    "country_week_highQ_df = country_week_highQ_df.rename(columns={'':'Calendar_Week'})\n",
    "country_week_highQ_df.head()\n",
    "print country_week_highQ_df.min(),country_week_highQ_df.max()\n"
   ]
  },
  {
   "cell_type": "code",
   "execution_count": 67,
   "metadata": {
    "collapsed": false
   },
   "outputs": [
    {
     "name": "stdout",
     "output_type": "stream",
     "text": [
      "date          2013-12-27\n",
      "HighQ_Mean      322.1294\n",
      "dtype: object date          2015-06-11\n",
      "HighQ_Mean      335.5829\n",
      "dtype: object\n"
     ]
    }
   ],
   "source": [
    "#now let us check on which day it was the lowest across country\n",
    "country_day_highQ_df = pd.DataFrame(csv_df_sort_fillna_ffil.groupby(['date'],as_index=False).aggregate({'HighQ':{'HighQ_Mean':np.mean}}))\n",
    "country_day_highQ_df.columns = country_day_highQ_df.columns.droplevel(0)\n",
    "country_day_highQ_df = country_day_highQ_df.rename(columns={'':'date'})\n",
    "country_day_highQ_df.head()\n",
    "print country_day_highQ_df.min(),country_day_highQ_df.max()"
   ]
  },
  {
   "cell_type": "code",
   "execution_count": 68,
   "metadata": {
    "collapsed": false
   },
   "outputs": [
    {
     "name": "stdout",
     "output_type": "stream",
     "text": [
      "Calendar_Week       1.000000\n",
      "HighQN_Mean      1951.098039\n",
      "dtype: float64 Calendar_Week      52.000000\n",
      "HighQN_Mean      2522.322129\n",
      "dtype: float64\n"
     ]
    }
   ],
   "source": [
    "# now let us check when people buy the most across the country \n",
    "country_week_highQN_df = pd.DataFrame(csv_df_sort_fillna_ffil.groupby(['Calendar_Week'],as_index=False).aggregate({'HighQN':{'HighQN_Mean':np.mean}}))\n",
    "country_week_highQN_df.columns = country_week_highQN_df.columns.droplevel(0)\n",
    "country_week_highQN_df = country_week_highQN_df.rename(columns={'':'Calendar_Week'})\n",
    "country_week_highQN_df.head()\n",
    "print country_week_highQN_df.min(),country_week_highQN_df.max()"
   ]
  },
  {
   "cell_type": "code",
   "execution_count": null,
   "metadata": {
    "collapsed": true
   },
   "outputs": [],
   "source": []
  }
 ],
 "metadata": {
  "kernelspec": {
   "display_name": "Python 2",
   "language": "python",
   "name": "python2"
  },
  "language_info": {
   "codemirror_mode": {
    "name": "ipython",
    "version": 2
   },
   "file_extension": ".py",
   "mimetype": "text/x-python",
   "name": "python",
   "nbconvert_exporter": "python",
   "pygments_lexer": "ipython2",
   "version": "2.7.10"
  }
 },
 "nbformat": 4,
 "nbformat_minor": 0
}
