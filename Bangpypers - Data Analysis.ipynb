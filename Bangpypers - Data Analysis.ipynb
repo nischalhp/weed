{
 "cells": [
  {
   "cell_type": "code",
   "execution_count": 1,
   "metadata": {
    "collapsed": true
   },
   "outputs": [],
   "source": [
    "import pandas as pd\n",
    "import numpy as np\n",
    "from scipy import stats\n",
    "import matplotlib.pyplot as plt\n",
    "from sklearn.cross_validation import train_test_split\n",
    "from sklearn import linear_model\n",
    "from sklearn.preprocessing import OneHotEncoder\n"
   ]
  },
  {
   "cell_type": "markdown",
   "metadata": {},
   "source": [
    "#Reading CSV"
   ]
  },
  {
   "cell_type": "code",
   "execution_count": 2,
   "metadata": {
    "collapsed": false
   },
   "outputs": [],
   "source": [
    "csv_df = pd.DataFrame.from_csv(\"marijuana-street-price-clean.csv\",header=0,index_col=False,sep=',',parse_dates=[-1])"
   ]
  },
  {
   "cell_type": "code",
   "execution_count": 3,
   "metadata": {
    "collapsed": false
   },
   "outputs": [],
   "source": [
    "#csv_df.head"
   ]
  },
  {
   "cell_type": "code",
   "execution_count": 4,
   "metadata": {
    "collapsed": false
   },
   "outputs": [],
   "source": [
    "csv_df_sort = csv_df.sort(columns=['State','date'])"
   ]
  },
  {
   "cell_type": "code",
   "execution_count": 5,
   "metadata": {
    "collapsed": true
   },
   "outputs": [],
   "source": [
    "# let us count the number of entries in each column"
   ]
  },
  {
   "cell_type": "code",
   "execution_count": 6,
   "metadata": {
    "collapsed": false
   },
   "outputs": [
    {
     "data": {
      "text/plain": [
       "State     22899\n",
       "HighQ     22899\n",
       "HighQN    22899\n",
       "MedQ      22899\n",
       "MedQN     22899\n",
       "LowQ      12342\n",
       "LowQN     22899\n",
       "date      22899\n",
       "dtype: int64"
      ]
     },
     "execution_count": 6,
     "metadata": {},
     "output_type": "execute_result"
    }
   ],
   "source": [
    "csv_df_sort.count()"
   ]
  },
  {
   "cell_type": "code",
   "execution_count": 7,
   "metadata": {
    "collapsed": false
   },
   "outputs": [
    {
     "data": {
      "text/plain": [
       "State             object\n",
       "HighQ            float64\n",
       "HighQN             int64\n",
       "MedQ             float64\n",
       "MedQN              int64\n",
       "LowQ             float64\n",
       "LowQN              int64\n",
       "date      datetime64[ns]\n",
       "dtype: object"
      ]
     },
     "execution_count": 7,
     "metadata": {},
     "output_type": "execute_result"
    }
   ],
   "source": [
    "csv_df_sort.dtypes"
   ]
  },
  {
   "cell_type": "markdown",
   "metadata": {
    "collapsed": true
   },
   "source": [
    "# Pre processing by filling data"
   ]
  },
  {
   "cell_type": "code",
   "execution_count": 8,
   "metadata": {
    "collapsed": true
   },
   "outputs": [],
   "source": [
    "# we see that LowQ does not match the number of entries and this a common problem in time series analysis\n",
    "# lets fill up the Nan value with the last known best value so that we can work on continuing time series analysis"
   ]
  },
  {
   "cell_type": "code",
   "execution_count": 9,
   "metadata": {
    "collapsed": false
   },
   "outputs": [],
   "source": [
    "csv_df_sort_fillna_ffil = csv_df_sort.fillna(method='ffill')"
   ]
  },
  {
   "cell_type": "code",
   "execution_count": 10,
   "metadata": {
    "collapsed": false
   },
   "outputs": [
    {
     "data": {
      "text/plain": [
       "State     22899\n",
       "HighQ     22899\n",
       "HighQN    22899\n",
       "MedQ      22899\n",
       "MedQN     22899\n",
       "LowQ      22899\n",
       "LowQN     22899\n",
       "date      22899\n",
       "dtype: int64"
      ]
     },
     "execution_count": 10,
     "metadata": {},
     "output_type": "execute_result"
    }
   ],
   "source": [
    "csv_df_sort_fillna_ffil.count()"
   ]
  },
  {
   "cell_type": "code",
   "execution_count": 11,
   "metadata": {
    "collapsed": true
   },
   "outputs": [],
   "source": [
    "#now we have cleaned data set to work with"
   ]
  },
  {
   "cell_type": "code",
   "execution_count": 12,
   "metadata": {
    "collapsed": false
   },
   "outputs": [],
   "source": [
    "global_mean_HighQ = csv_df_sort_fillna_ffil['HighQ'].mean()"
   ]
  },
  {
   "cell_type": "code",
   "execution_count": 13,
   "metadata": {
    "collapsed": false
   },
   "outputs": [
    {
     "data": {
      "text/plain": [
       "329.75985414210226"
      ]
     },
     "execution_count": 13,
     "metadata": {},
     "output_type": "execute_result"
    }
   ],
   "source": [
    "global_mean_HighQ"
   ]
  },
  {
   "cell_type": "code",
   "execution_count": 14,
   "metadata": {
    "collapsed": true
   },
   "outputs": [],
   "source": [
    "#now that we have the global mean, we can find how far the values of mean are for each state from global mean"
   ]
  },
  {
   "cell_type": "code",
   "execution_count": 15,
   "metadata": {
    "collapsed": false
   },
   "outputs": [
    {
     "name": "stdout",
     "output_type": "stream",
     "text": [
      "<class 'pandas.core.frame.DataFrame'>\n"
     ]
    }
   ],
   "source": [
    "print type(csv_df_sort_fillna_ffil.head())"
   ]
  },
  {
   "cell_type": "code",
   "execution_count": 16,
   "metadata": {
    "collapsed": false
   },
   "outputs": [],
   "source": [
    "#group_by_state.get_group(('Alabama'))\n",
    "# to check values for a given group\n",
    "# now lets use agg function to get generate Mean,Median,Standard deviation,Variance and covariance for every state"
   ]
  },
  {
   "cell_type": "code",
   "execution_count": 17,
   "metadata": {
    "collapsed": false
   },
   "outputs": [],
   "source": [
    "basic_measures_state_wise_df = pd.DataFrame()"
   ]
  },
  {
   "cell_type": "code",
   "execution_count": 18,
   "metadata": {
    "collapsed": false
   },
   "outputs": [
    {
     "data": {
      "text/plain": [
       "\"\\nunique_states = pd.unique(csv_df_sort_fillna_ffil['State'].ravel())\\nfor state in unique_states:\\n    state_df = csv_df_sort_fillna_ffil.loc[csv_df_sort_fillna_ffil['State'] == state]\\n    highq_df = state_df.groupby(['State'])['HighQ'].agg([np.mean,np.median,np.std,np.var,np.cov])\\n    highq_df.head()\\n    lowq_df = state_df.groupby(['State'],)['LowQ'].agg([np.mean,np.median,np.std,np.var,np.cov])\\n    highq_df = highq_df.rename(columns={'mean':'HighQ_Mean','median':'HighQ_Median','std':'HighQ_Std','var':'HighQ_Var','cov':'HighQ_Cov'})\\n    lowq_df = lowq_df.rename(columns={'mean':'LowQ_Mean','median':'LowQ_Median','std':'LowQ_Std','var':'LowQ_Var','cov':'LowQ_Cov'})\\n    highq_df['State'] = state\\n    lowq_df['State'] = state\\n    break\\n\""
      ]
     },
     "execution_count": 18,
     "metadata": {},
     "output_type": "execute_result"
    }
   ],
   "source": [
    "#lets get all the unique states in the data frame and construct the measures for each state\n",
    "# normal method\n",
    "'''\n",
    "unique_states = pd.unique(csv_df_sort_fillna_ffil['State'].ravel())\n",
    "for state in unique_states:\n",
    "    state_df = csv_df_sort_fillna_ffil.loc[csv_df_sort_fillna_ffil['State'] == state]\n",
    "    highq_df = state_df.groupby(['State'])['HighQ'].agg([np.mean,np.median,np.std,np.var,np.cov])\n",
    "    highq_df.head()\n",
    "    lowq_df = state_df.groupby(['State'],)['LowQ'].agg([np.mean,np.median,np.std,np.var,np.cov])\n",
    "    highq_df = highq_df.rename(columns={'mean':'HighQ_Mean','median':'HighQ_Median','std':'HighQ_Std','var':'HighQ_Var','cov':'HighQ_Cov'})\n",
    "    lowq_df = lowq_df.rename(columns={'mean':'LowQ_Mean','median':'LowQ_Median','std':'LowQ_Std','var':'LowQ_Var','cov':'LowQ_Cov'})\n",
    "    highq_df['State'] = state\n",
    "    lowq_df['State'] = state\n",
    "    break\n",
    "'''"
   ]
  },
  {
   "cell_type": "code",
   "execution_count": 19,
   "metadata": {
    "collapsed": false
   },
   "outputs": [
    {
     "data": {
      "text/html": [
       "<div>\n",
       "<table border=\"1\" class=\"dataframe\">\n",
       "  <thead>\n",
       "    <tr style=\"text-align: right;\">\n",
       "      <th></th>\n",
       "      <th>State</th>\n",
       "      <th>HighQ</th>\n",
       "      <th>HighQN</th>\n",
       "      <th>MedQ</th>\n",
       "      <th>MedQN</th>\n",
       "      <th>LowQ</th>\n",
       "      <th>LowQN</th>\n",
       "      <th>date</th>\n",
       "    </tr>\n",
       "  </thead>\n",
       "  <tbody>\n",
       "    <tr>\n",
       "      <th>20094</th>\n",
       "      <td>Alabama</td>\n",
       "      <td>339.65</td>\n",
       "      <td>1033</td>\n",
       "      <td>198.04</td>\n",
       "      <td>926</td>\n",
       "      <td>147.15</td>\n",
       "      <td>122</td>\n",
       "      <td>2013-12-27</td>\n",
       "    </tr>\n",
       "    <tr>\n",
       "      <th>20859</th>\n",
       "      <td>Alabama</td>\n",
       "      <td>339.65</td>\n",
       "      <td>1033</td>\n",
       "      <td>198.04</td>\n",
       "      <td>926</td>\n",
       "      <td>147.15</td>\n",
       "      <td>122</td>\n",
       "      <td>2013-12-28</td>\n",
       "    </tr>\n",
       "    <tr>\n",
       "      <th>21573</th>\n",
       "      <td>Alabama</td>\n",
       "      <td>339.75</td>\n",
       "      <td>1036</td>\n",
       "      <td>198.26</td>\n",
       "      <td>929</td>\n",
       "      <td>149.49</td>\n",
       "      <td>123</td>\n",
       "      <td>2013-12-29</td>\n",
       "    </tr>\n",
       "    <tr>\n",
       "      <th>22287</th>\n",
       "      <td>Alabama</td>\n",
       "      <td>339.75</td>\n",
       "      <td>1036</td>\n",
       "      <td>198.81</td>\n",
       "      <td>930</td>\n",
       "      <td>149.49</td>\n",
       "      <td>123</td>\n",
       "      <td>2013-12-30</td>\n",
       "    </tr>\n",
       "    <tr>\n",
       "      <th>22797</th>\n",
       "      <td>Alabama</td>\n",
       "      <td>339.42</td>\n",
       "      <td>1040</td>\n",
       "      <td>198.68</td>\n",
       "      <td>932</td>\n",
       "      <td>149.49</td>\n",
       "      <td>123</td>\n",
       "      <td>2013-12-31</td>\n",
       "    </tr>\n",
       "  </tbody>\n",
       "</table>\n",
       "</div>"
      ],
      "text/plain": [
       "         State   HighQ  HighQN    MedQ  MedQN    LowQ  LowQN       date\n",
       "20094  Alabama  339.65    1033  198.04    926  147.15    122 2013-12-27\n",
       "20859  Alabama  339.65    1033  198.04    926  147.15    122 2013-12-28\n",
       "21573  Alabama  339.75    1036  198.26    929  149.49    123 2013-12-29\n",
       "22287  Alabama  339.75    1036  198.81    930  149.49    123 2013-12-30\n",
       "22797  Alabama  339.42    1040  198.68    932  149.49    123 2013-12-31"
      ]
     },
     "execution_count": 19,
     "metadata": {},
     "output_type": "execute_result"
    }
   ],
   "source": [
    "csv_df_sort_fillna_ffil.head()"
   ]
  },
  {
   "cell_type": "markdown",
   "metadata": {},
   "source": [
    "# Generating statistical measures"
   ]
  },
  {
   "cell_type": "code",
   "execution_count": 20,
   "metadata": {
    "collapsed": false
   },
   "outputs": [
    {
     "name": "stdout",
     "output_type": "stream",
     "text": [
      "<class 'pandas.core.frame.DataFrame'>\n",
      "<class 'pandas.core.frame.DataFrame'>\n"
     ]
    },
    {
     "data": {
      "text/html": [
       "<div>\n",
       "<table border=\"1\" class=\"dataframe\">\n",
       "  <thead>\n",
       "    <tr style=\"text-align: right;\">\n",
       "      <th></th>\n",
       "      <th>State</th>\n",
       "      <th>HighQ_Std</th>\n",
       "      <th>HighQ_Mode</th>\n",
       "      <th>HighQ_Covar</th>\n",
       "      <th>HighQ_Var</th>\n",
       "      <th>HighQ_Mean</th>\n",
       "      <th>HighQ_Median</th>\n",
       "      <th>LowQ_Std</th>\n",
       "      <th>LowQ_Covar</th>\n",
       "      <th>LowQ_Median</th>\n",
       "      <th>LowQ_Mode</th>\n",
       "      <th>LowQ_Mean</th>\n",
       "      <th>LowQ_Var</th>\n",
       "    </tr>\n",
       "  </thead>\n",
       "  <tbody>\n",
       "    <tr>\n",
       "      <th>0</th>\n",
       "      <td>Alabama</td>\n",
       "      <td>1.539724</td>\n",
       "      <td>([337.32], [10.0])</td>\n",
       "      <td>2.370749</td>\n",
       "      <td>2.370749</td>\n",
       "      <td>339.561849</td>\n",
       "      <td>340.10</td>\n",
       "      <td>2.073186</td>\n",
       "      <td>4.298099</td>\n",
       "      <td>144.98</td>\n",
       "      <td>([144.98], [216.0])</td>\n",
       "      <td>145.978508</td>\n",
       "      <td>4.298099</td>\n",
       "    </tr>\n",
       "    <tr>\n",
       "      <th>1</th>\n",
       "      <td>Alaska</td>\n",
       "      <td>5.580105</td>\n",
       "      <td>([285.65], [19.0])</td>\n",
       "      <td>31.137567</td>\n",
       "      <td>31.137567</td>\n",
       "      <td>291.482004</td>\n",
       "      <td>289.81</td>\n",
       "      <td>13.188305</td>\n",
       "      <td>173.931381</td>\n",
       "      <td>403.33</td>\n",
       "      <td>([403.33], [237.0])</td>\n",
       "      <td>394.653964</td>\n",
       "      <td>173.931381</td>\n",
       "    </tr>\n",
       "    <tr>\n",
       "      <th>2</th>\n",
       "      <td>Arizona</td>\n",
       "      <td>2.015750</td>\n",
       "      <td>([300.37], [10.0])</td>\n",
       "      <td>4.063247</td>\n",
       "      <td>4.063247</td>\n",
       "      <td>300.667483</td>\n",
       "      <td>300.46</td>\n",
       "      <td>3.961371</td>\n",
       "      <td>15.692461</td>\n",
       "      <td>185.78</td>\n",
       "      <td>([185.78], [213.0])</td>\n",
       "      <td>188.500134</td>\n",
       "      <td>15.692461</td>\n",
       "    </tr>\n",
       "    <tr>\n",
       "      <th>3</th>\n",
       "      <td>Arkansas</td>\n",
       "      <td>6.866002</td>\n",
       "      <td>([349.29], [11.0])</td>\n",
       "      <td>47.141986</td>\n",
       "      <td>47.141986</td>\n",
       "      <td>348.056147</td>\n",
       "      <td>348.21</td>\n",
       "      <td>1.172681</td>\n",
       "      <td>1.375181</td>\n",
       "      <td>126.10</td>\n",
       "      <td>([126.1], [219.0])</td>\n",
       "      <td>126.771269</td>\n",
       "      <td>1.375181</td>\n",
       "    </tr>\n",
       "    <tr>\n",
       "      <th>4</th>\n",
       "      <td>California</td>\n",
       "      <td>1.727046</td>\n",
       "      <td>([245.03], [8.0])</td>\n",
       "      <td>2.982686</td>\n",
       "      <td>2.982686</td>\n",
       "      <td>245.376125</td>\n",
       "      <td>245.31</td>\n",
       "      <td>1.598252</td>\n",
       "      <td>2.554409</td>\n",
       "      <td>188.60</td>\n",
       "      <td>([188.6], [211.0])</td>\n",
       "      <td>189.783586</td>\n",
       "      <td>2.554409</td>\n",
       "    </tr>\n",
       "  </tbody>\n",
       "</table>\n",
       "</div>"
      ],
      "text/plain": [
       "        State  HighQ_Std          HighQ_Mode  HighQ_Covar  HighQ_Var  \\\n",
       "0     Alabama   1.539724  ([337.32], [10.0])     2.370749   2.370749   \n",
       "1      Alaska   5.580105  ([285.65], [19.0])    31.137567  31.137567   \n",
       "2     Arizona   2.015750  ([300.37], [10.0])     4.063247   4.063247   \n",
       "3    Arkansas   6.866002  ([349.29], [11.0])    47.141986  47.141986   \n",
       "4  California   1.727046   ([245.03], [8.0])     2.982686   2.982686   \n",
       "\n",
       "   HighQ_Mean  HighQ_Median   LowQ_Std  LowQ_Covar  LowQ_Median  \\\n",
       "0  339.561849        340.10   2.073186    4.298099       144.98   \n",
       "1  291.482004        289.81  13.188305  173.931381       403.33   \n",
       "2  300.667483        300.46   3.961371   15.692461       185.78   \n",
       "3  348.056147        348.21   1.172681    1.375181       126.10   \n",
       "4  245.376125        245.31   1.598252    2.554409       188.60   \n",
       "\n",
       "             LowQ_Mode   LowQ_Mean    LowQ_Var  \n",
       "0  ([144.98], [216.0])  145.978508    4.298099  \n",
       "1  ([403.33], [237.0])  394.653964  173.931381  \n",
       "2  ([185.78], [213.0])  188.500134   15.692461  \n",
       "3   ([126.1], [219.0])  126.771269    1.375181  \n",
       "4   ([188.6], [211.0])  189.783586    2.554409  "
      ]
     },
     "execution_count": 20,
     "metadata": {},
     "output_type": "execute_result"
    }
   ],
   "source": [
    "statistics_df = pd.DataFrame(csv_df_sort_fillna_ffil.groupby(['State'],as_index=False).aggregate\\\n",
    "                             ({'HighQ': {'HighQ_Mean': np.mean,'HighQ_Median':np.median,'HighQ_Mode':stats.mode,'HighQ_Std':np.std,'HighQ_Var':np.var,'HighQ_Covar':np.cov},\\\n",
    "                               'LowQ':{'LowQ_Mean':np.mean,'LowQ_Median':np.median,'LowQ_Mode':stats.mode,'LowQ_Std':np.std,'LowQ_Var':np.var,'LowQ_Covar':np.cov}}))\n",
    "print type(statistics_df)\n",
    "statistics_df = statistics_df.rename(columns={'':'State'})\n",
    "print type(statistics_df)\n",
    "statistics_df.columns = statistics_df.columns.droplevel(0)\n",
    "statistics_df.head()"
   ]
  },
  {
   "cell_type": "markdown",
   "metadata": {},
   "source": [
    "# Reading demographics and population data"
   ]
  },
  {
   "cell_type": "code",
   "execution_count": 21,
   "metadata": {
    "collapsed": true
   },
   "outputs": [],
   "source": [
    "#let us now read demographics data into a dataframe "
   ]
  },
  {
   "cell_type": "code",
   "execution_count": 22,
   "metadata": {
    "collapsed": true
   },
   "outputs": [],
   "source": [
    "demographics_df = pd.DataFrame.from_csv(\"Demographics_State.csv\",header=0,index_col=False,sep=',')"
   ]
  },
  {
   "cell_type": "code",
   "execution_count": 23,
   "metadata": {
    "collapsed": false
   },
   "outputs": [
    {
     "data": {
      "text/html": [
       "<div>\n",
       "<table border=\"1\" class=\"dataframe\">\n",
       "  <thead>\n",
       "    <tr style=\"text-align: right;\">\n",
       "      <th></th>\n",
       "      <th>region</th>\n",
       "      <th>total_population</th>\n",
       "      <th>percent_white</th>\n",
       "      <th>percent_black</th>\n",
       "      <th>percent_asian</th>\n",
       "      <th>percent_hispanic</th>\n",
       "      <th>per_capita_income</th>\n",
       "      <th>median_rent</th>\n",
       "      <th>median_age</th>\n",
       "    </tr>\n",
       "  </thead>\n",
       "  <tbody>\n",
       "    <tr>\n",
       "      <th>0</th>\n",
       "      <td>alabama</td>\n",
       "      <td>4799277</td>\n",
       "      <td>67</td>\n",
       "      <td>26</td>\n",
       "      <td>1</td>\n",
       "      <td>4</td>\n",
       "      <td>23680</td>\n",
       "      <td>501</td>\n",
       "      <td>38.1</td>\n",
       "    </tr>\n",
       "    <tr>\n",
       "      <th>1</th>\n",
       "      <td>alaska</td>\n",
       "      <td>720316</td>\n",
       "      <td>63</td>\n",
       "      <td>3</td>\n",
       "      <td>5</td>\n",
       "      <td>6</td>\n",
       "      <td>32651</td>\n",
       "      <td>978</td>\n",
       "      <td>33.6</td>\n",
       "    </tr>\n",
       "    <tr>\n",
       "      <th>2</th>\n",
       "      <td>arizona</td>\n",
       "      <td>6479703</td>\n",
       "      <td>57</td>\n",
       "      <td>4</td>\n",
       "      <td>3</td>\n",
       "      <td>30</td>\n",
       "      <td>25358</td>\n",
       "      <td>747</td>\n",
       "      <td>36.3</td>\n",
       "    </tr>\n",
       "    <tr>\n",
       "      <th>3</th>\n",
       "      <td>arkansas</td>\n",
       "      <td>2933369</td>\n",
       "      <td>74</td>\n",
       "      <td>15</td>\n",
       "      <td>1</td>\n",
       "      <td>7</td>\n",
       "      <td>22170</td>\n",
       "      <td>480</td>\n",
       "      <td>37.5</td>\n",
       "    </tr>\n",
       "    <tr>\n",
       "      <th>4</th>\n",
       "      <td>california</td>\n",
       "      <td>37659181</td>\n",
       "      <td>40</td>\n",
       "      <td>6</td>\n",
       "      <td>13</td>\n",
       "      <td>38</td>\n",
       "      <td>29527</td>\n",
       "      <td>1119</td>\n",
       "      <td>35.4</td>\n",
       "    </tr>\n",
       "  </tbody>\n",
       "</table>\n",
       "</div>"
      ],
      "text/plain": [
       "       region  total_population  percent_white  percent_black  percent_asian  \\\n",
       "0     alabama           4799277             67             26              1   \n",
       "1      alaska            720316             63              3              5   \n",
       "2     arizona           6479703             57              4              3   \n",
       "3    arkansas           2933369             74             15              1   \n",
       "4  california          37659181             40              6             13   \n",
       "\n",
       "   percent_hispanic  per_capita_income  median_rent  median_age  \n",
       "0                 4              23680          501        38.1  \n",
       "1                 6              32651          978        33.6  \n",
       "2                30              25358          747        36.3  \n",
       "3                 7              22170          480        37.5  \n",
       "4                38              29527         1119        35.4  "
      ]
     },
     "execution_count": 23,
     "metadata": {},
     "output_type": "execute_result"
    }
   ],
   "source": [
    "demographics_df.head()"
   ]
  },
  {
   "cell_type": "code",
   "execution_count": 24,
   "metadata": {
    "collapsed": false
   },
   "outputs": [
    {
     "data": {
      "text/plain": [
       "(51, 9)"
      ]
     },
     "execution_count": 24,
     "metadata": {},
     "output_type": "execute_result"
    }
   ],
   "source": [
    "demographics_df.shape"
   ]
  },
  {
   "cell_type": "code",
   "execution_count": 25,
   "metadata": {
    "collapsed": false
   },
   "outputs": [
    {
     "data": {
      "text/plain": [
       "Index([u'region', u'total_population', u'percent_white', u'percent_black',\n",
       "       u'percent_asian', u'percent_hispanic', u'per_capita_income',\n",
       "       u'median_rent', u'median_age'],\n",
       "      dtype='object')"
      ]
     },
     "execution_count": 25,
     "metadata": {},
     "output_type": "execute_result"
    }
   ],
   "source": [
    "demographics_df.columns"
   ]
  },
  {
   "cell_type": "code",
   "execution_count": 26,
   "metadata": {
    "collapsed": true
   },
   "outputs": [],
   "source": [
    "#let us now read population data into a dataframe"
   ]
  },
  {
   "cell_type": "code",
   "execution_count": 27,
   "metadata": {
    "collapsed": true
   },
   "outputs": [],
   "source": [
    "population_df = pd.DataFrame.from_csv(\"Population_State.csv\",header=0,index_col=False,sep=\",\")"
   ]
  },
  {
   "cell_type": "code",
   "execution_count": 28,
   "metadata": {
    "collapsed": false
   },
   "outputs": [
    {
     "data": {
      "text/html": [
       "<div>\n",
       "<table border=\"1\" class=\"dataframe\">\n",
       "  <thead>\n",
       "    <tr style=\"text-align: right;\">\n",
       "      <th></th>\n",
       "      <th>region</th>\n",
       "      <th>value</th>\n",
       "    </tr>\n",
       "  </thead>\n",
       "  <tbody>\n",
       "    <tr>\n",
       "      <th>0</th>\n",
       "      <td>alabama</td>\n",
       "      <td>4777326</td>\n",
       "    </tr>\n",
       "    <tr>\n",
       "      <th>1</th>\n",
       "      <td>alaska</td>\n",
       "      <td>711139</td>\n",
       "    </tr>\n",
       "    <tr>\n",
       "      <th>2</th>\n",
       "      <td>arizona</td>\n",
       "      <td>6410979</td>\n",
       "    </tr>\n",
       "    <tr>\n",
       "      <th>3</th>\n",
       "      <td>arkansas</td>\n",
       "      <td>2916372</td>\n",
       "    </tr>\n",
       "    <tr>\n",
       "      <th>4</th>\n",
       "      <td>california</td>\n",
       "      <td>37325068</td>\n",
       "    </tr>\n",
       "  </tbody>\n",
       "</table>\n",
       "</div>"
      ],
      "text/plain": [
       "       region     value\n",
       "0     alabama   4777326\n",
       "1      alaska    711139\n",
       "2     arizona   6410979\n",
       "3    arkansas   2916372\n",
       "4  california  37325068"
      ]
     },
     "execution_count": 28,
     "metadata": {},
     "output_type": "execute_result"
    }
   ],
   "source": [
    "population_df.head()"
   ]
  },
  {
   "cell_type": "code",
   "execution_count": 29,
   "metadata": {
    "collapsed": false
   },
   "outputs": [
    {
     "data": {
      "text/plain": [
       "(51, 2)"
      ]
     },
     "execution_count": 29,
     "metadata": {},
     "output_type": "execute_result"
    }
   ],
   "source": [
    "population_df.shape"
   ]
  },
  {
   "cell_type": "code",
   "execution_count": 30,
   "metadata": {
    "collapsed": false
   },
   "outputs": [
    {
     "data": {
      "text/html": [
       "<div>\n",
       "<table border=\"1\" class=\"dataframe\">\n",
       "  <thead>\n",
       "    <tr style=\"text-align: right;\">\n",
       "      <th></th>\n",
       "      <th>value</th>\n",
       "    </tr>\n",
       "  </thead>\n",
       "  <tbody>\n",
       "    <tr>\n",
       "      <th>count</th>\n",
       "      <td>51.000000</td>\n",
       "    </tr>\n",
       "    <tr>\n",
       "      <th>mean</th>\n",
       "      <td>6061543.352941</td>\n",
       "    </tr>\n",
       "    <tr>\n",
       "      <th>std</th>\n",
       "      <td>6838088.582209</td>\n",
       "    </tr>\n",
       "    <tr>\n",
       "      <th>min</th>\n",
       "      <td>562803.000000</td>\n",
       "    </tr>\n",
       "    <tr>\n",
       "      <th>25%</th>\n",
       "      <td>1697554.500000</td>\n",
       "    </tr>\n",
       "    <tr>\n",
       "      <th>50%</th>\n",
       "      <td>4340167.000000</td>\n",
       "    </tr>\n",
       "    <tr>\n",
       "      <th>75%</th>\n",
       "      <td>6649654.500000</td>\n",
       "    </tr>\n",
       "    <tr>\n",
       "      <th>max</th>\n",
       "      <td>37325068.000000</td>\n",
       "    </tr>\n",
       "  </tbody>\n",
       "</table>\n",
       "</div>"
      ],
      "text/plain": [
       "                 value\n",
       "count        51.000000\n",
       "mean    6061543.352941\n",
       "std     6838088.582209\n",
       "min      562803.000000\n",
       "25%     1697554.500000\n",
       "50%     4340167.000000\n",
       "75%     6649654.500000\n",
       "max    37325068.000000"
      ]
     },
     "execution_count": 30,
     "metadata": {},
     "output_type": "execute_result"
    }
   ],
   "source": [
    "population_df.describe()"
   ]
  },
  {
   "cell_type": "code",
   "execution_count": 31,
   "metadata": {
    "collapsed": false
   },
   "outputs": [
    {
     "data": {
      "text/plain": [
       "Index([u'region', u'value'], dtype='object')"
      ]
     },
     "execution_count": 31,
     "metadata": {},
     "output_type": "execute_result"
    }
   ],
   "source": [
    "population_df.columns"
   ]
  },
  {
   "cell_type": "markdown",
   "metadata": {},
   "source": [
    "# Merging stats data,demographic and population data"
   ]
  },
  {
   "cell_type": "code",
   "execution_count": 32,
   "metadata": {
    "collapsed": true
   },
   "outputs": [],
   "source": [
    "#we are now merging demographic and population data into one single data frame\n",
    "#to do this , we are using pandas merge method which allows us to join two data frames like how we do it in sql\n",
    "# we are using inner join and on the column region"
   ]
  },
  {
   "cell_type": "code",
   "execution_count": 33,
   "metadata": {
    "collapsed": false
   },
   "outputs": [],
   "source": [
    "population_demographic_merge_df = pd.merge(demographics_df,population_df,how='inner',on='region')"
   ]
  },
  {
   "cell_type": "code",
   "execution_count": 34,
   "metadata": {
    "collapsed": false
   },
   "outputs": [
    {
     "data": {
      "text/html": [
       "<div>\n",
       "<table border=\"1\" class=\"dataframe\">\n",
       "  <thead>\n",
       "    <tr style=\"text-align: right;\">\n",
       "      <th></th>\n",
       "      <th>region</th>\n",
       "      <th>total_population</th>\n",
       "      <th>percent_white</th>\n",
       "      <th>percent_black</th>\n",
       "      <th>percent_asian</th>\n",
       "      <th>percent_hispanic</th>\n",
       "      <th>per_capita_income</th>\n",
       "      <th>median_rent</th>\n",
       "      <th>median_age</th>\n",
       "      <th>value</th>\n",
       "    </tr>\n",
       "  </thead>\n",
       "  <tbody>\n",
       "    <tr>\n",
       "      <th>0</th>\n",
       "      <td>alabama</td>\n",
       "      <td>4799277</td>\n",
       "      <td>67</td>\n",
       "      <td>26</td>\n",
       "      <td>1</td>\n",
       "      <td>4</td>\n",
       "      <td>23680</td>\n",
       "      <td>501</td>\n",
       "      <td>38.1</td>\n",
       "      <td>4777326</td>\n",
       "    </tr>\n",
       "    <tr>\n",
       "      <th>1</th>\n",
       "      <td>alaska</td>\n",
       "      <td>720316</td>\n",
       "      <td>63</td>\n",
       "      <td>3</td>\n",
       "      <td>5</td>\n",
       "      <td>6</td>\n",
       "      <td>32651</td>\n",
       "      <td>978</td>\n",
       "      <td>33.6</td>\n",
       "      <td>711139</td>\n",
       "    </tr>\n",
       "    <tr>\n",
       "      <th>2</th>\n",
       "      <td>arizona</td>\n",
       "      <td>6479703</td>\n",
       "      <td>57</td>\n",
       "      <td>4</td>\n",
       "      <td>3</td>\n",
       "      <td>30</td>\n",
       "      <td>25358</td>\n",
       "      <td>747</td>\n",
       "      <td>36.3</td>\n",
       "      <td>6410979</td>\n",
       "    </tr>\n",
       "    <tr>\n",
       "      <th>3</th>\n",
       "      <td>arkansas</td>\n",
       "      <td>2933369</td>\n",
       "      <td>74</td>\n",
       "      <td>15</td>\n",
       "      <td>1</td>\n",
       "      <td>7</td>\n",
       "      <td>22170</td>\n",
       "      <td>480</td>\n",
       "      <td>37.5</td>\n",
       "      <td>2916372</td>\n",
       "    </tr>\n",
       "    <tr>\n",
       "      <th>4</th>\n",
       "      <td>california</td>\n",
       "      <td>37659181</td>\n",
       "      <td>40</td>\n",
       "      <td>6</td>\n",
       "      <td>13</td>\n",
       "      <td>38</td>\n",
       "      <td>29527</td>\n",
       "      <td>1119</td>\n",
       "      <td>35.4</td>\n",
       "      <td>37325068</td>\n",
       "    </tr>\n",
       "  </tbody>\n",
       "</table>\n",
       "</div>"
      ],
      "text/plain": [
       "       region  total_population  percent_white  percent_black  percent_asian  \\\n",
       "0     alabama           4799277             67             26              1   \n",
       "1      alaska            720316             63              3              5   \n",
       "2     arizona           6479703             57              4              3   \n",
       "3    arkansas           2933369             74             15              1   \n",
       "4  california          37659181             40              6             13   \n",
       "\n",
       "   percent_hispanic  per_capita_income  median_rent  median_age     value  \n",
       "0                 4              23680          501        38.1   4777326  \n",
       "1                 6              32651          978        33.6    711139  \n",
       "2                30              25358          747        36.3   6410979  \n",
       "3                 7              22170          480        37.5   2916372  \n",
       "4                38              29527         1119        35.4  37325068  "
      ]
     },
     "execution_count": 34,
     "metadata": {},
     "output_type": "execute_result"
    }
   ],
   "source": [
    "population_demographic_merge_df.head()"
   ]
  },
  {
   "cell_type": "code",
   "execution_count": 35,
   "metadata": {
    "collapsed": false
   },
   "outputs": [
    {
     "data": {
      "text/plain": [
       "(51, 10)"
      ]
     },
     "execution_count": 35,
     "metadata": {},
     "output_type": "execute_result"
    }
   ],
   "source": [
    "population_demographic_merge_df.shape"
   ]
  },
  {
   "cell_type": "code",
   "execution_count": 36,
   "metadata": {
    "collapsed": false
   },
   "outputs": [],
   "source": [
    "population_demographic_merge_df = population_demographic_merge_df.rename(columns={'region':'State'})"
   ]
  },
  {
   "cell_type": "code",
   "execution_count": 37,
   "metadata": {
    "collapsed": false
   },
   "outputs": [
    {
     "data": {
      "text/html": [
       "<div>\n",
       "<table border=\"1\" class=\"dataframe\">\n",
       "  <thead>\n",
       "    <tr style=\"text-align: right;\">\n",
       "      <th></th>\n",
       "      <th>State</th>\n",
       "      <th>total_population</th>\n",
       "      <th>percent_white</th>\n",
       "      <th>percent_black</th>\n",
       "      <th>percent_asian</th>\n",
       "      <th>percent_hispanic</th>\n",
       "      <th>per_capita_income</th>\n",
       "      <th>median_rent</th>\n",
       "      <th>median_age</th>\n",
       "      <th>value</th>\n",
       "    </tr>\n",
       "  </thead>\n",
       "  <tbody>\n",
       "    <tr>\n",
       "      <th>0</th>\n",
       "      <td>alabama</td>\n",
       "      <td>4799277</td>\n",
       "      <td>67</td>\n",
       "      <td>26</td>\n",
       "      <td>1</td>\n",
       "      <td>4</td>\n",
       "      <td>23680</td>\n",
       "      <td>501</td>\n",
       "      <td>38.1</td>\n",
       "      <td>4777326</td>\n",
       "    </tr>\n",
       "    <tr>\n",
       "      <th>1</th>\n",
       "      <td>alaska</td>\n",
       "      <td>720316</td>\n",
       "      <td>63</td>\n",
       "      <td>3</td>\n",
       "      <td>5</td>\n",
       "      <td>6</td>\n",
       "      <td>32651</td>\n",
       "      <td>978</td>\n",
       "      <td>33.6</td>\n",
       "      <td>711139</td>\n",
       "    </tr>\n",
       "    <tr>\n",
       "      <th>2</th>\n",
       "      <td>arizona</td>\n",
       "      <td>6479703</td>\n",
       "      <td>57</td>\n",
       "      <td>4</td>\n",
       "      <td>3</td>\n",
       "      <td>30</td>\n",
       "      <td>25358</td>\n",
       "      <td>747</td>\n",
       "      <td>36.3</td>\n",
       "      <td>6410979</td>\n",
       "    </tr>\n",
       "    <tr>\n",
       "      <th>3</th>\n",
       "      <td>arkansas</td>\n",
       "      <td>2933369</td>\n",
       "      <td>74</td>\n",
       "      <td>15</td>\n",
       "      <td>1</td>\n",
       "      <td>7</td>\n",
       "      <td>22170</td>\n",
       "      <td>480</td>\n",
       "      <td>37.5</td>\n",
       "      <td>2916372</td>\n",
       "    </tr>\n",
       "    <tr>\n",
       "      <th>4</th>\n",
       "      <td>california</td>\n",
       "      <td>37659181</td>\n",
       "      <td>40</td>\n",
       "      <td>6</td>\n",
       "      <td>13</td>\n",
       "      <td>38</td>\n",
       "      <td>29527</td>\n",
       "      <td>1119</td>\n",
       "      <td>35.4</td>\n",
       "      <td>37325068</td>\n",
       "    </tr>\n",
       "  </tbody>\n",
       "</table>\n",
       "</div>"
      ],
      "text/plain": [
       "        State  total_population  percent_white  percent_black  percent_asian  \\\n",
       "0     alabama           4799277             67             26              1   \n",
       "1      alaska            720316             63              3              5   \n",
       "2     arizona           6479703             57              4              3   \n",
       "3    arkansas           2933369             74             15              1   \n",
       "4  california          37659181             40              6             13   \n",
       "\n",
       "   percent_hispanic  per_capita_income  median_rent  median_age     value  \n",
       "0                 4              23680          501        38.1   4777326  \n",
       "1                 6              32651          978        33.6    711139  \n",
       "2                30              25358          747        36.3   6410979  \n",
       "3                 7              22170          480        37.5   2916372  \n",
       "4                38              29527         1119        35.4  37325068  "
      ]
     },
     "execution_count": 37,
     "metadata": {},
     "output_type": "execute_result"
    }
   ],
   "source": [
    "population_demographic_merge_df.head()"
   ]
  },
  {
   "cell_type": "code",
   "execution_count": 38,
   "metadata": {
    "collapsed": false
   },
   "outputs": [],
   "source": [
    "statistics_population_demographic_merge_df = pd.merge(population_demographic_merge_df,statistics_df,how='inner',on='State')"
   ]
  },
  {
   "cell_type": "code",
   "execution_count": 39,
   "metadata": {
    "collapsed": false
   },
   "outputs": [
    {
     "data": {
      "text/html": [
       "<div>\n",
       "<table border=\"1\" class=\"dataframe\">\n",
       "  <thead>\n",
       "    <tr style=\"text-align: right;\">\n",
       "      <th></th>\n",
       "      <th>State</th>\n",
       "      <th>total_population</th>\n",
       "      <th>percent_white</th>\n",
       "      <th>percent_black</th>\n",
       "      <th>percent_asian</th>\n",
       "      <th>percent_hispanic</th>\n",
       "      <th>per_capita_income</th>\n",
       "      <th>median_rent</th>\n",
       "      <th>median_age</th>\n",
       "      <th>value</th>\n",
       "      <th>...</th>\n",
       "      <th>HighQ_Covar</th>\n",
       "      <th>HighQ_Var</th>\n",
       "      <th>HighQ_Mean</th>\n",
       "      <th>HighQ_Median</th>\n",
       "      <th>LowQ_Std</th>\n",
       "      <th>LowQ_Covar</th>\n",
       "      <th>LowQ_Median</th>\n",
       "      <th>LowQ_Mode</th>\n",
       "      <th>LowQ_Mean</th>\n",
       "      <th>LowQ_Var</th>\n",
       "    </tr>\n",
       "  </thead>\n",
       "  <tbody>\n",
       "  </tbody>\n",
       "</table>\n",
       "<p>0 rows × 22 columns</p>\n",
       "</div>"
      ],
      "text/plain": [
       "Empty DataFrame\n",
       "Columns: [State, total_population, percent_white, percent_black, percent_asian, percent_hispanic, per_capita_income, median_rent, median_age, value, HighQ_Std, HighQ_Mode, HighQ_Covar, HighQ_Var, HighQ_Mean, HighQ_Median, LowQ_Std, LowQ_Covar, LowQ_Median, LowQ_Mode, LowQ_Mean, LowQ_Var]\n",
       "Index: []\n",
       "\n",
       "[0 rows x 22 columns]"
      ]
     },
     "execution_count": 39,
     "metadata": {},
     "output_type": "execute_result"
    }
   ],
   "source": [
    "statistics_population_demographic_merge_df.head()"
   ]
  },
  {
   "cell_type": "code",
   "execution_count": 40,
   "metadata": {
    "collapsed": true
   },
   "outputs": [],
   "source": [
    "#the reason why there are no entries here is because in the population demographic df the States are in lower case\n",
    "# let us now change the States to lower case in statistics df too"
   ]
  },
  {
   "cell_type": "code",
   "execution_count": 41,
   "metadata": {
    "collapsed": false
   },
   "outputs": [
    {
     "data": {
      "text/html": [
       "<div>\n",
       "<table border=\"1\" class=\"dataframe\">\n",
       "  <thead>\n",
       "    <tr style=\"text-align: right;\">\n",
       "      <th></th>\n",
       "      <th>State</th>\n",
       "      <th>HighQ_Std</th>\n",
       "      <th>HighQ_Mode</th>\n",
       "      <th>HighQ_Covar</th>\n",
       "      <th>HighQ_Var</th>\n",
       "      <th>HighQ_Mean</th>\n",
       "      <th>HighQ_Median</th>\n",
       "      <th>LowQ_Std</th>\n",
       "      <th>LowQ_Covar</th>\n",
       "      <th>LowQ_Median</th>\n",
       "      <th>LowQ_Mode</th>\n",
       "      <th>LowQ_Mean</th>\n",
       "      <th>LowQ_Var</th>\n",
       "    </tr>\n",
       "  </thead>\n",
       "  <tbody>\n",
       "    <tr>\n",
       "      <th>0</th>\n",
       "      <td>Alabama</td>\n",
       "      <td>1.539724</td>\n",
       "      <td>([337.32], [10.0])</td>\n",
       "      <td>2.370749</td>\n",
       "      <td>2.370749</td>\n",
       "      <td>339.561849</td>\n",
       "      <td>340.10</td>\n",
       "      <td>2.073186</td>\n",
       "      <td>4.298099</td>\n",
       "      <td>144.98</td>\n",
       "      <td>([144.98], [216.0])</td>\n",
       "      <td>145.978508</td>\n",
       "      <td>4.298099</td>\n",
       "    </tr>\n",
       "    <tr>\n",
       "      <th>1</th>\n",
       "      <td>Alaska</td>\n",
       "      <td>5.580105</td>\n",
       "      <td>([285.65], [19.0])</td>\n",
       "      <td>31.137567</td>\n",
       "      <td>31.137567</td>\n",
       "      <td>291.482004</td>\n",
       "      <td>289.81</td>\n",
       "      <td>13.188305</td>\n",
       "      <td>173.931381</td>\n",
       "      <td>403.33</td>\n",
       "      <td>([403.33], [237.0])</td>\n",
       "      <td>394.653964</td>\n",
       "      <td>173.931381</td>\n",
       "    </tr>\n",
       "    <tr>\n",
       "      <th>2</th>\n",
       "      <td>Arizona</td>\n",
       "      <td>2.015750</td>\n",
       "      <td>([300.37], [10.0])</td>\n",
       "      <td>4.063247</td>\n",
       "      <td>4.063247</td>\n",
       "      <td>300.667483</td>\n",
       "      <td>300.46</td>\n",
       "      <td>3.961371</td>\n",
       "      <td>15.692461</td>\n",
       "      <td>185.78</td>\n",
       "      <td>([185.78], [213.0])</td>\n",
       "      <td>188.500134</td>\n",
       "      <td>15.692461</td>\n",
       "    </tr>\n",
       "    <tr>\n",
       "      <th>3</th>\n",
       "      <td>Arkansas</td>\n",
       "      <td>6.866002</td>\n",
       "      <td>([349.29], [11.0])</td>\n",
       "      <td>47.141986</td>\n",
       "      <td>47.141986</td>\n",
       "      <td>348.056147</td>\n",
       "      <td>348.21</td>\n",
       "      <td>1.172681</td>\n",
       "      <td>1.375181</td>\n",
       "      <td>126.10</td>\n",
       "      <td>([126.1], [219.0])</td>\n",
       "      <td>126.771269</td>\n",
       "      <td>1.375181</td>\n",
       "    </tr>\n",
       "    <tr>\n",
       "      <th>4</th>\n",
       "      <td>California</td>\n",
       "      <td>1.727046</td>\n",
       "      <td>([245.03], [8.0])</td>\n",
       "      <td>2.982686</td>\n",
       "      <td>2.982686</td>\n",
       "      <td>245.376125</td>\n",
       "      <td>245.31</td>\n",
       "      <td>1.598252</td>\n",
       "      <td>2.554409</td>\n",
       "      <td>188.60</td>\n",
       "      <td>([188.6], [211.0])</td>\n",
       "      <td>189.783586</td>\n",
       "      <td>2.554409</td>\n",
       "    </tr>\n",
       "  </tbody>\n",
       "</table>\n",
       "</div>"
      ],
      "text/plain": [
       "        State  HighQ_Std          HighQ_Mode  HighQ_Covar  HighQ_Var  \\\n",
       "0     Alabama   1.539724  ([337.32], [10.0])     2.370749   2.370749   \n",
       "1      Alaska   5.580105  ([285.65], [19.0])    31.137567  31.137567   \n",
       "2     Arizona   2.015750  ([300.37], [10.0])     4.063247   4.063247   \n",
       "3    Arkansas   6.866002  ([349.29], [11.0])    47.141986  47.141986   \n",
       "4  California   1.727046   ([245.03], [8.0])     2.982686   2.982686   \n",
       "\n",
       "   HighQ_Mean  HighQ_Median   LowQ_Std  LowQ_Covar  LowQ_Median  \\\n",
       "0  339.561849        340.10   2.073186    4.298099       144.98   \n",
       "1  291.482004        289.81  13.188305  173.931381       403.33   \n",
       "2  300.667483        300.46   3.961371   15.692461       185.78   \n",
       "3  348.056147        348.21   1.172681    1.375181       126.10   \n",
       "4  245.376125        245.31   1.598252    2.554409       188.60   \n",
       "\n",
       "             LowQ_Mode   LowQ_Mean    LowQ_Var  \n",
       "0  ([144.98], [216.0])  145.978508    4.298099  \n",
       "1  ([403.33], [237.0])  394.653964  173.931381  \n",
       "2  ([185.78], [213.0])  188.500134   15.692461  \n",
       "3   ([126.1], [219.0])  126.771269    1.375181  \n",
       "4   ([188.6], [211.0])  189.783586    2.554409  "
      ]
     },
     "execution_count": 41,
     "metadata": {},
     "output_type": "execute_result"
    }
   ],
   "source": [
    "statistics_df.head()"
   ]
  },
  {
   "cell_type": "code",
   "execution_count": 42,
   "metadata": {
    "collapsed": false
   },
   "outputs": [
    {
     "data": {
      "text/html": [
       "<div>\n",
       "<table border=\"1\" class=\"dataframe\">\n",
       "  <thead>\n",
       "    <tr style=\"text-align: right;\">\n",
       "      <th></th>\n",
       "      <th>State</th>\n",
       "      <th>HighQ_Std</th>\n",
       "      <th>HighQ_Mode</th>\n",
       "      <th>HighQ_Covar</th>\n",
       "      <th>HighQ_Var</th>\n",
       "      <th>HighQ_Mean</th>\n",
       "      <th>HighQ_Median</th>\n",
       "      <th>LowQ_Std</th>\n",
       "      <th>LowQ_Covar</th>\n",
       "      <th>LowQ_Median</th>\n",
       "      <th>LowQ_Mode</th>\n",
       "      <th>LowQ_Mean</th>\n",
       "      <th>LowQ_Var</th>\n",
       "    </tr>\n",
       "  </thead>\n",
       "  <tbody>\n",
       "    <tr>\n",
       "      <th>0</th>\n",
       "      <td>alabama</td>\n",
       "      <td>1.539724</td>\n",
       "      <td>([337.32], [10.0])</td>\n",
       "      <td>2.370749</td>\n",
       "      <td>2.370749</td>\n",
       "      <td>339.561849</td>\n",
       "      <td>340.10</td>\n",
       "      <td>2.073186</td>\n",
       "      <td>4.298099</td>\n",
       "      <td>144.98</td>\n",
       "      <td>([144.98], [216.0])</td>\n",
       "      <td>145.978508</td>\n",
       "      <td>4.298099</td>\n",
       "    </tr>\n",
       "    <tr>\n",
       "      <th>1</th>\n",
       "      <td>alaska</td>\n",
       "      <td>5.580105</td>\n",
       "      <td>([285.65], [19.0])</td>\n",
       "      <td>31.137567</td>\n",
       "      <td>31.137567</td>\n",
       "      <td>291.482004</td>\n",
       "      <td>289.81</td>\n",
       "      <td>13.188305</td>\n",
       "      <td>173.931381</td>\n",
       "      <td>403.33</td>\n",
       "      <td>([403.33], [237.0])</td>\n",
       "      <td>394.653964</td>\n",
       "      <td>173.931381</td>\n",
       "    </tr>\n",
       "    <tr>\n",
       "      <th>2</th>\n",
       "      <td>arizona</td>\n",
       "      <td>2.015750</td>\n",
       "      <td>([300.37], [10.0])</td>\n",
       "      <td>4.063247</td>\n",
       "      <td>4.063247</td>\n",
       "      <td>300.667483</td>\n",
       "      <td>300.46</td>\n",
       "      <td>3.961371</td>\n",
       "      <td>15.692461</td>\n",
       "      <td>185.78</td>\n",
       "      <td>([185.78], [213.0])</td>\n",
       "      <td>188.500134</td>\n",
       "      <td>15.692461</td>\n",
       "    </tr>\n",
       "    <tr>\n",
       "      <th>3</th>\n",
       "      <td>arkansas</td>\n",
       "      <td>6.866002</td>\n",
       "      <td>([349.29], [11.0])</td>\n",
       "      <td>47.141986</td>\n",
       "      <td>47.141986</td>\n",
       "      <td>348.056147</td>\n",
       "      <td>348.21</td>\n",
       "      <td>1.172681</td>\n",
       "      <td>1.375181</td>\n",
       "      <td>126.10</td>\n",
       "      <td>([126.1], [219.0])</td>\n",
       "      <td>126.771269</td>\n",
       "      <td>1.375181</td>\n",
       "    </tr>\n",
       "    <tr>\n",
       "      <th>4</th>\n",
       "      <td>california</td>\n",
       "      <td>1.727046</td>\n",
       "      <td>([245.03], [8.0])</td>\n",
       "      <td>2.982686</td>\n",
       "      <td>2.982686</td>\n",
       "      <td>245.376125</td>\n",
       "      <td>245.31</td>\n",
       "      <td>1.598252</td>\n",
       "      <td>2.554409</td>\n",
       "      <td>188.60</td>\n",
       "      <td>([188.6], [211.0])</td>\n",
       "      <td>189.783586</td>\n",
       "      <td>2.554409</td>\n",
       "    </tr>\n",
       "  </tbody>\n",
       "</table>\n",
       "</div>"
      ],
      "text/plain": [
       "        State  HighQ_Std          HighQ_Mode  HighQ_Covar  HighQ_Var  \\\n",
       "0     alabama   1.539724  ([337.32], [10.0])     2.370749   2.370749   \n",
       "1      alaska   5.580105  ([285.65], [19.0])    31.137567  31.137567   \n",
       "2     arizona   2.015750  ([300.37], [10.0])     4.063247   4.063247   \n",
       "3    arkansas   6.866002  ([349.29], [11.0])    47.141986  47.141986   \n",
       "4  california   1.727046   ([245.03], [8.0])     2.982686   2.982686   \n",
       "\n",
       "   HighQ_Mean  HighQ_Median   LowQ_Std  LowQ_Covar  LowQ_Median  \\\n",
       "0  339.561849        340.10   2.073186    4.298099       144.98   \n",
       "1  291.482004        289.81  13.188305  173.931381       403.33   \n",
       "2  300.667483        300.46   3.961371   15.692461       185.78   \n",
       "3  348.056147        348.21   1.172681    1.375181       126.10   \n",
       "4  245.376125        245.31   1.598252    2.554409       188.60   \n",
       "\n",
       "             LowQ_Mode   LowQ_Mean    LowQ_Var  \n",
       "0  ([144.98], [216.0])  145.978508    4.298099  \n",
       "1  ([403.33], [237.0])  394.653964  173.931381  \n",
       "2  ([185.78], [213.0])  188.500134   15.692461  \n",
       "3   ([126.1], [219.0])  126.771269    1.375181  \n",
       "4   ([188.6], [211.0])  189.783586    2.554409  "
      ]
     },
     "execution_count": 42,
     "metadata": {},
     "output_type": "execute_result"
    }
   ],
   "source": [
    "statistics_df['State'] = statistics_df['State'].str.lower()\n",
    "statistics_df.head()"
   ]
  },
  {
   "cell_type": "code",
   "execution_count": 43,
   "metadata": {
    "collapsed": true
   },
   "outputs": [],
   "source": [
    "#now lets merge the data again, the reason we are merging all this data is we are able to look at one state on multiple levels."
   ]
  },
  {
   "cell_type": "code",
   "execution_count": 44,
   "metadata": {
    "collapsed": false
   },
   "outputs": [],
   "source": [
    "stats_pop_dem_merge_df = pd.merge(population_demographic_merge_df,statistics_df,how='inner',on='State')"
   ]
  },
  {
   "cell_type": "code",
   "execution_count": 45,
   "metadata": {
    "collapsed": false
   },
   "outputs": [
    {
     "data": {
      "text/html": [
       "<div>\n",
       "<table border=\"1\" class=\"dataframe\">\n",
       "  <thead>\n",
       "    <tr style=\"text-align: right;\">\n",
       "      <th></th>\n",
       "      <th>State</th>\n",
       "      <th>total_population</th>\n",
       "      <th>percent_white</th>\n",
       "      <th>percent_black</th>\n",
       "      <th>percent_asian</th>\n",
       "      <th>percent_hispanic</th>\n",
       "      <th>per_capita_income</th>\n",
       "      <th>median_rent</th>\n",
       "      <th>median_age</th>\n",
       "      <th>value</th>\n",
       "      <th>...</th>\n",
       "      <th>HighQ_Covar</th>\n",
       "      <th>HighQ_Var</th>\n",
       "      <th>HighQ_Mean</th>\n",
       "      <th>HighQ_Median</th>\n",
       "      <th>LowQ_Std</th>\n",
       "      <th>LowQ_Covar</th>\n",
       "      <th>LowQ_Median</th>\n",
       "      <th>LowQ_Mode</th>\n",
       "      <th>LowQ_Mean</th>\n",
       "      <th>LowQ_Var</th>\n",
       "    </tr>\n",
       "  </thead>\n",
       "  <tbody>\n",
       "    <tr>\n",
       "      <th>0</th>\n",
       "      <td>alabama</td>\n",
       "      <td>4799277</td>\n",
       "      <td>67</td>\n",
       "      <td>26</td>\n",
       "      <td>1</td>\n",
       "      <td>4</td>\n",
       "      <td>23680</td>\n",
       "      <td>501</td>\n",
       "      <td>38.1</td>\n",
       "      <td>4777326</td>\n",
       "      <td>...</td>\n",
       "      <td>2.370749</td>\n",
       "      <td>2.370749</td>\n",
       "      <td>339.561849</td>\n",
       "      <td>340.10</td>\n",
       "      <td>2.073186</td>\n",
       "      <td>4.298099</td>\n",
       "      <td>144.98</td>\n",
       "      <td>([144.98], [216.0])</td>\n",
       "      <td>145.978508</td>\n",
       "      <td>4.298099</td>\n",
       "    </tr>\n",
       "    <tr>\n",
       "      <th>1</th>\n",
       "      <td>alaska</td>\n",
       "      <td>720316</td>\n",
       "      <td>63</td>\n",
       "      <td>3</td>\n",
       "      <td>5</td>\n",
       "      <td>6</td>\n",
       "      <td>32651</td>\n",
       "      <td>978</td>\n",
       "      <td>33.6</td>\n",
       "      <td>711139</td>\n",
       "      <td>...</td>\n",
       "      <td>31.137567</td>\n",
       "      <td>31.137567</td>\n",
       "      <td>291.482004</td>\n",
       "      <td>289.81</td>\n",
       "      <td>13.188305</td>\n",
       "      <td>173.931381</td>\n",
       "      <td>403.33</td>\n",
       "      <td>([403.33], [237.0])</td>\n",
       "      <td>394.653964</td>\n",
       "      <td>173.931381</td>\n",
       "    </tr>\n",
       "    <tr>\n",
       "      <th>2</th>\n",
       "      <td>arizona</td>\n",
       "      <td>6479703</td>\n",
       "      <td>57</td>\n",
       "      <td>4</td>\n",
       "      <td>3</td>\n",
       "      <td>30</td>\n",
       "      <td>25358</td>\n",
       "      <td>747</td>\n",
       "      <td>36.3</td>\n",
       "      <td>6410979</td>\n",
       "      <td>...</td>\n",
       "      <td>4.063247</td>\n",
       "      <td>4.063247</td>\n",
       "      <td>300.667483</td>\n",
       "      <td>300.46</td>\n",
       "      <td>3.961371</td>\n",
       "      <td>15.692461</td>\n",
       "      <td>185.78</td>\n",
       "      <td>([185.78], [213.0])</td>\n",
       "      <td>188.500134</td>\n",
       "      <td>15.692461</td>\n",
       "    </tr>\n",
       "    <tr>\n",
       "      <th>3</th>\n",
       "      <td>arkansas</td>\n",
       "      <td>2933369</td>\n",
       "      <td>74</td>\n",
       "      <td>15</td>\n",
       "      <td>1</td>\n",
       "      <td>7</td>\n",
       "      <td>22170</td>\n",
       "      <td>480</td>\n",
       "      <td>37.5</td>\n",
       "      <td>2916372</td>\n",
       "      <td>...</td>\n",
       "      <td>47.141986</td>\n",
       "      <td>47.141986</td>\n",
       "      <td>348.056147</td>\n",
       "      <td>348.21</td>\n",
       "      <td>1.172681</td>\n",
       "      <td>1.375181</td>\n",
       "      <td>126.10</td>\n",
       "      <td>([126.1], [219.0])</td>\n",
       "      <td>126.771269</td>\n",
       "      <td>1.375181</td>\n",
       "    </tr>\n",
       "    <tr>\n",
       "      <th>4</th>\n",
       "      <td>california</td>\n",
       "      <td>37659181</td>\n",
       "      <td>40</td>\n",
       "      <td>6</td>\n",
       "      <td>13</td>\n",
       "      <td>38</td>\n",
       "      <td>29527</td>\n",
       "      <td>1119</td>\n",
       "      <td>35.4</td>\n",
       "      <td>37325068</td>\n",
       "      <td>...</td>\n",
       "      <td>2.982686</td>\n",
       "      <td>2.982686</td>\n",
       "      <td>245.376125</td>\n",
       "      <td>245.31</td>\n",
       "      <td>1.598252</td>\n",
       "      <td>2.554409</td>\n",
       "      <td>188.60</td>\n",
       "      <td>([188.6], [211.0])</td>\n",
       "      <td>189.783586</td>\n",
       "      <td>2.554409</td>\n",
       "    </tr>\n",
       "  </tbody>\n",
       "</table>\n",
       "<p>5 rows × 22 columns</p>\n",
       "</div>"
      ],
      "text/plain": [
       "        State  total_population  percent_white  percent_black  percent_asian  \\\n",
       "0     alabama           4799277             67             26              1   \n",
       "1      alaska            720316             63              3              5   \n",
       "2     arizona           6479703             57              4              3   \n",
       "3    arkansas           2933369             74             15              1   \n",
       "4  california          37659181             40              6             13   \n",
       "\n",
       "   percent_hispanic  per_capita_income  median_rent  median_age     value  \\\n",
       "0                 4              23680          501        38.1   4777326   \n",
       "1                 6              32651          978        33.6    711139   \n",
       "2                30              25358          747        36.3   6410979   \n",
       "3                 7              22170          480        37.5   2916372   \n",
       "4                38              29527         1119        35.4  37325068   \n",
       "\n",
       "      ...      HighQ_Covar  HighQ_Var  HighQ_Mean  HighQ_Median   LowQ_Std  \\\n",
       "0     ...         2.370749   2.370749  339.561849        340.10   2.073186   \n",
       "1     ...        31.137567  31.137567  291.482004        289.81  13.188305   \n",
       "2     ...         4.063247   4.063247  300.667483        300.46   3.961371   \n",
       "3     ...        47.141986  47.141986  348.056147        348.21   1.172681   \n",
       "4     ...         2.982686   2.982686  245.376125        245.31   1.598252   \n",
       "\n",
       "   LowQ_Covar  LowQ_Median            LowQ_Mode   LowQ_Mean    LowQ_Var  \n",
       "0    4.298099       144.98  ([144.98], [216.0])  145.978508    4.298099  \n",
       "1  173.931381       403.33  ([403.33], [237.0])  394.653964  173.931381  \n",
       "2   15.692461       185.78  ([185.78], [213.0])  188.500134   15.692461  \n",
       "3    1.375181       126.10   ([126.1], [219.0])  126.771269    1.375181  \n",
       "4    2.554409       188.60   ([188.6], [211.0])  189.783586    2.554409  \n",
       "\n",
       "[5 rows x 22 columns]"
      ]
     },
     "execution_count": 45,
     "metadata": {},
     "output_type": "execute_result"
    }
   ],
   "source": [
    "stats_pop_dem_merge_df.head()"
   ]
  },
  {
   "cell_type": "code",
   "execution_count": 46,
   "metadata": {
    "collapsed": false
   },
   "outputs": [
    {
     "data": {
      "text/plain": [
       "Index([u'State', u'total_population', u'percent_white', u'percent_black',\n",
       "       u'percent_asian', u'percent_hispanic', u'per_capita_income',\n",
       "       u'median_rent', u'median_age', u'value', u'HighQ_Std', u'HighQ_Mode',\n",
       "       u'HighQ_Covar', u'HighQ_Var', u'HighQ_Mean', u'HighQ_Median',\n",
       "       u'LowQ_Std', u'LowQ_Covar', u'LowQ_Median', u'LowQ_Mode', u'LowQ_Mean',\n",
       "       u'LowQ_Var'],\n",
       "      dtype='object')"
      ]
     },
     "execution_count": 46,
     "metadata": {},
     "output_type": "execute_result"
    }
   ],
   "source": [
    "stats_pop_dem_merge_df.shape\n",
    "stats_pop_dem_merge_df.columns"
   ]
  },
  {
   "cell_type": "markdown",
   "metadata": {},
   "source": [
    "# Generating insights using merged data"
   ]
  },
  {
   "cell_type": "code",
   "execution_count": 47,
   "metadata": {
    "collapsed": true
   },
   "outputs": [],
   "source": [
    "#so now we have data for 51 states with 20 feature columns. \n",
    "#The data is ready"
   ]
  },
  {
   "cell_type": "code",
   "execution_count": 48,
   "metadata": {
    "collapsed": false
   },
   "outputs": [],
   "source": [
    "white_greater_black = stats_pop_dem_merge_df[stats_pop_dem_merge_df.percent_white > stats_pop_dem_merge_df.percent_black]\n",
    "black_greate_white =  stats_pop_dem_merge_df[stats_pop_dem_merge_df.percent_white < stats_pop_dem_merge_df.percent_black]\n"
   ]
  },
  {
   "cell_type": "code",
   "execution_count": 49,
   "metadata": {
    "collapsed": false
   },
   "outputs": [
    {
     "data": {
      "text/plain": [
       "((50, 22), (1, 22))"
      ]
     },
     "execution_count": 49,
     "metadata": {},
     "output_type": "execute_result"
    }
   ],
   "source": [
    "white_greater_black.shape,black_greate_white.shape"
   ]
  },
  {
   "cell_type": "code",
   "execution_count": 50,
   "metadata": {
    "collapsed": true
   },
   "outputs": [],
   "source": [
    "#given that the white population is high in almost every state, lets not do any comparison use the \n",
    "#percent of whites and blacks"
   ]
  },
  {
   "cell_type": "code",
   "execution_count": 51,
   "metadata": {
    "collapsed": false
   },
   "outputs": [],
   "source": [
    "#let us see if there is a correlation between per capita income and highQ_mean/lowQ_mean\n",
    "correlation_btw_per_capita_highQ = stats.pearsonr(white_greater_black.per_capita_income,white_greater_black.HighQ_Mean)[0]\n",
    "correlation_btw_per_capita_lowQ = stats.pearsonr(white_greater_black.per_capita_income,white_greater_black.LowQ_Mean)[0]"
   ]
  },
  {
   "cell_type": "code",
   "execution_count": 52,
   "metadata": {
    "collapsed": false
   },
   "outputs": [
    {
     "data": {
      "text/plain": [
       "(0.10372726217632158, 0.34288507101733851)"
      ]
     },
     "execution_count": 52,
     "metadata": {},
     "output_type": "execute_result"
    }
   ],
   "source": [
    "correlation_btw_per_capita_highQ,correlation_btw_per_capita_lowQ"
   ]
  },
  {
   "cell_type": "code",
   "execution_count": 53,
   "metadata": {
    "collapsed": false
   },
   "outputs": [
    {
     "data": {
      "text/plain": [
       "-0.17012234340734669"
      ]
     },
     "execution_count": 53,
     "metadata": {},
     "output_type": "execute_result"
    }
   ],
   "source": [
    "# using population data let us see if we can correlate total population with that of price\n",
    "population_correlation = stats.pearsonr(stats_pop_dem_merge_df.total_population,stats_pop_dem_merge_df.HighQ_Mean)[0]\n",
    "population_correlation\n",
    "\n",
    "# we see that it is iversely correlated to an extent which implies greater the population lesser is the price"
   ]
  },
  {
   "cell_type": "code",
   "execution_count": 54,
   "metadata": {
    "collapsed": false
   },
   "outputs": [
    {
     "name": "stdout",
     "output_type": "stream",
     "text": [
      "   index  HighQ_Mean\n",
      "0      5  238.918708\n",
      "   index  HighQ_Mean\n",
      "0     50   339.02078\n"
     ]
    }
   ],
   "source": [
    "# let us see if there is a big difference in the value of High quality \n",
    "# weed prices based on states selling it legally and those that dont\n",
    "legal_states = ['colorado']\n",
    "illegal_states = ['wyoming']\n",
    "\n",
    "legal_states_mean = stats_pop_dem_merge_df[stats_pop_dem_merge_df['State'].isin(legal_states)]['HighQ_Mean']\n",
    "illegal_states_mean = stats_pop_dem_merge_df[stats_pop_dem_merge_df['State'].isin(illegal_states)]['HighQ_Mean']\n",
    "legal_states_mean = legal_states_mean.reset_index()\n",
    "illegal_states_mean = illegal_states_mean.reset_index()\n",
    "print legal_states_mean.head()\n",
    "print illegal_states_mean.head()\n",
    "\n",
    "# we see that legal states sell highQ marijuana at a lesser price\n"
   ]
  },
  {
   "cell_type": "code",
   "execution_count": 55,
   "metadata": {
    "collapsed": true
   },
   "outputs": [],
   "source": [
    "# from this we understand that the value of low quality weed is somewhat affected by per capita income compared to \n",
    "# high quality weed\n",
    "# we can use the same way to compute correlations amognst other attributes too"
   ]
  },
  {
   "cell_type": "code",
   "execution_count": 56,
   "metadata": {
    "collapsed": false
   },
   "outputs": [
    {
     "data": {
      "text/html": [
       "<div>\n",
       "<table border=\"1\" class=\"dataframe\">\n",
       "  <thead>\n",
       "    <tr style=\"text-align: right;\">\n",
       "      <th></th>\n",
       "      <th>State</th>\n",
       "      <th>HighQ</th>\n",
       "      <th>HighQN</th>\n",
       "      <th>MedQ</th>\n",
       "      <th>MedQN</th>\n",
       "      <th>LowQ</th>\n",
       "      <th>LowQN</th>\n",
       "      <th>date</th>\n",
       "    </tr>\n",
       "  </thead>\n",
       "  <tbody>\n",
       "    <tr>\n",
       "      <th>20094</th>\n",
       "      <td>Alabama</td>\n",
       "      <td>339.65</td>\n",
       "      <td>1033</td>\n",
       "      <td>198.04</td>\n",
       "      <td>926</td>\n",
       "      <td>147.15</td>\n",
       "      <td>122</td>\n",
       "      <td>2013-12-27</td>\n",
       "    </tr>\n",
       "    <tr>\n",
       "      <th>20859</th>\n",
       "      <td>Alabama</td>\n",
       "      <td>339.65</td>\n",
       "      <td>1033</td>\n",
       "      <td>198.04</td>\n",
       "      <td>926</td>\n",
       "      <td>147.15</td>\n",
       "      <td>122</td>\n",
       "      <td>2013-12-28</td>\n",
       "    </tr>\n",
       "    <tr>\n",
       "      <th>21573</th>\n",
       "      <td>Alabama</td>\n",
       "      <td>339.75</td>\n",
       "      <td>1036</td>\n",
       "      <td>198.26</td>\n",
       "      <td>929</td>\n",
       "      <td>149.49</td>\n",
       "      <td>123</td>\n",
       "      <td>2013-12-29</td>\n",
       "    </tr>\n",
       "    <tr>\n",
       "      <th>22287</th>\n",
       "      <td>Alabama</td>\n",
       "      <td>339.75</td>\n",
       "      <td>1036</td>\n",
       "      <td>198.81</td>\n",
       "      <td>930</td>\n",
       "      <td>149.49</td>\n",
       "      <td>123</td>\n",
       "      <td>2013-12-30</td>\n",
       "    </tr>\n",
       "    <tr>\n",
       "      <th>22797</th>\n",
       "      <td>Alabama</td>\n",
       "      <td>339.42</td>\n",
       "      <td>1040</td>\n",
       "      <td>198.68</td>\n",
       "      <td>932</td>\n",
       "      <td>149.49</td>\n",
       "      <td>123</td>\n",
       "      <td>2013-12-31</td>\n",
       "    </tr>\n",
       "  </tbody>\n",
       "</table>\n",
       "</div>"
      ],
      "text/plain": [
       "         State   HighQ  HighQN    MedQ  MedQN    LowQ  LowQN       date\n",
       "20094  Alabama  339.65    1033  198.04    926  147.15    122 2013-12-27\n",
       "20859  Alabama  339.65    1033  198.04    926  147.15    122 2013-12-28\n",
       "21573  Alabama  339.75    1036  198.26    929  149.49    123 2013-12-29\n",
       "22287  Alabama  339.75    1036  198.81    930  149.49    123 2013-12-30\n",
       "22797  Alabama  339.42    1040  198.68    932  149.49    123 2013-12-31"
      ]
     },
     "execution_count": 56,
     "metadata": {},
     "output_type": "execute_result"
    }
   ],
   "source": [
    "#before we go any further , lets try to find some interesting growth in weed prices for each state \n",
    "csv_df_sort_fillna_ffil.head()"
   ]
  },
  {
   "cell_type": "code",
   "execution_count": 57,
   "metadata": {
    "collapsed": false
   },
   "outputs": [],
   "source": [
    "country_mean_highQ = csv_df_sort_fillna_ffil.groupby(['date'],as_index=False).aggregate({'HighQ':np.mean})"
   ]
  },
  {
   "cell_type": "code",
   "execution_count": 58,
   "metadata": {
    "collapsed": false
   },
   "outputs": [
    {
     "data": {
      "text/html": [
       "<div>\n",
       "<table border=\"1\" class=\"dataframe\">\n",
       "  <thead>\n",
       "    <tr style=\"text-align: right;\">\n",
       "      <th></th>\n",
       "      <th>date</th>\n",
       "      <th>HighQ</th>\n",
       "    </tr>\n",
       "  </thead>\n",
       "  <tbody>\n",
       "    <tr>\n",
       "      <th>0</th>\n",
       "      <td>2013-12-27</td>\n",
       "      <td>335.498039</td>\n",
       "    </tr>\n",
       "    <tr>\n",
       "      <th>1</th>\n",
       "      <td>2013-12-28</td>\n",
       "      <td>335.494902</td>\n",
       "    </tr>\n",
       "    <tr>\n",
       "      <th>2</th>\n",
       "      <td>2013-12-29</td>\n",
       "      <td>335.582941</td>\n",
       "    </tr>\n",
       "    <tr>\n",
       "      <th>3</th>\n",
       "      <td>2013-12-30</td>\n",
       "      <td>335.490196</td>\n",
       "    </tr>\n",
       "    <tr>\n",
       "      <th>4</th>\n",
       "      <td>2013-12-31</td>\n",
       "      <td>335.505098</td>\n",
       "    </tr>\n",
       "  </tbody>\n",
       "</table>\n",
       "</div>"
      ],
      "text/plain": [
       "        date       HighQ\n",
       "0 2013-12-27  335.498039\n",
       "1 2013-12-28  335.494902\n",
       "2 2013-12-29  335.582941\n",
       "3 2013-12-30  335.490196\n",
       "4 2013-12-31  335.505098"
      ]
     },
     "execution_count": 58,
     "metadata": {},
     "output_type": "execute_result"
    }
   ],
   "source": [
    "country_mean_highQ.head()"
   ]
  },
  {
   "cell_type": "code",
   "execution_count": 59,
   "metadata": {
    "collapsed": false
   },
   "outputs": [
    {
     "data": {
      "text/plain": [
       "date     2013-12-27 00:00:00\n",
       "HighQ               322.1294\n",
       "dtype: object"
      ]
     },
     "execution_count": 59,
     "metadata": {},
     "output_type": "execute_result"
    }
   ],
   "source": [
    "country_mean_highQ.min()"
   ]
  },
  {
   "cell_type": "code",
   "execution_count": 60,
   "metadata": {
    "collapsed": true
   },
   "outputs": [],
   "source": [
    "#we just have dates, we need to generate calendar week for each date"
   ]
  },
  {
   "cell_type": "code",
   "execution_count": 61,
   "metadata": {
    "collapsed": true
   },
   "outputs": [],
   "source": [
    "from datetime import datetime\n",
    "# date format in %Y-%m-%d\n",
    "def get_calendar_week(date):\n",
    "    calendar_week = date.isocalendar()[1]\n",
    "    return int(calendar_week)"
   ]
  },
  {
   "cell_type": "code",
   "execution_count": null,
   "metadata": {
    "collapsed": true
   },
   "outputs": [],
   "source": []
  },
  {
   "cell_type": "code",
   "execution_count": null,
   "metadata": {
    "collapsed": false
   },
   "outputs": [],
   "source": []
  },
  {
   "cell_type": "code",
   "execution_count": 62,
   "metadata": {
    "collapsed": false
   },
   "outputs": [],
   "source": [
    "# lets add calendar week to the data frame\n",
    "csv_df_sort_fillna_ffil['Calendar_Week'] = csv_df_sort_fillna_ffil['date'].apply(get_calendar_week)"
   ]
  },
  {
   "cell_type": "code",
   "execution_count": 63,
   "metadata": {
    "collapsed": false
   },
   "outputs": [
    {
     "data": {
      "text/html": [
       "<div>\n",
       "<table border=\"1\" class=\"dataframe\">\n",
       "  <thead>\n",
       "    <tr style=\"text-align: right;\">\n",
       "      <th></th>\n",
       "      <th>State</th>\n",
       "      <th>HighQ</th>\n",
       "      <th>HighQN</th>\n",
       "      <th>MedQ</th>\n",
       "      <th>MedQN</th>\n",
       "      <th>LowQ</th>\n",
       "      <th>LowQN</th>\n",
       "      <th>date</th>\n",
       "      <th>Calendar_Week</th>\n",
       "    </tr>\n",
       "  </thead>\n",
       "  <tbody>\n",
       "    <tr>\n",
       "      <th>20094</th>\n",
       "      <td>Alabama</td>\n",
       "      <td>339.65</td>\n",
       "      <td>1033</td>\n",
       "      <td>198.04</td>\n",
       "      <td>926</td>\n",
       "      <td>147.15</td>\n",
       "      <td>122</td>\n",
       "      <td>2013-12-27</td>\n",
       "      <td>52</td>\n",
       "    </tr>\n",
       "    <tr>\n",
       "      <th>20859</th>\n",
       "      <td>Alabama</td>\n",
       "      <td>339.65</td>\n",
       "      <td>1033</td>\n",
       "      <td>198.04</td>\n",
       "      <td>926</td>\n",
       "      <td>147.15</td>\n",
       "      <td>122</td>\n",
       "      <td>2013-12-28</td>\n",
       "      <td>52</td>\n",
       "    </tr>\n",
       "    <tr>\n",
       "      <th>21573</th>\n",
       "      <td>Alabama</td>\n",
       "      <td>339.75</td>\n",
       "      <td>1036</td>\n",
       "      <td>198.26</td>\n",
       "      <td>929</td>\n",
       "      <td>149.49</td>\n",
       "      <td>123</td>\n",
       "      <td>2013-12-29</td>\n",
       "      <td>52</td>\n",
       "    </tr>\n",
       "    <tr>\n",
       "      <th>22287</th>\n",
       "      <td>Alabama</td>\n",
       "      <td>339.75</td>\n",
       "      <td>1036</td>\n",
       "      <td>198.81</td>\n",
       "      <td>930</td>\n",
       "      <td>149.49</td>\n",
       "      <td>123</td>\n",
       "      <td>2013-12-30</td>\n",
       "      <td>1</td>\n",
       "    </tr>\n",
       "    <tr>\n",
       "      <th>22797</th>\n",
       "      <td>Alabama</td>\n",
       "      <td>339.42</td>\n",
       "      <td>1040</td>\n",
       "      <td>198.68</td>\n",
       "      <td>932</td>\n",
       "      <td>149.49</td>\n",
       "      <td>123</td>\n",
       "      <td>2013-12-31</td>\n",
       "      <td>1</td>\n",
       "    </tr>\n",
       "  </tbody>\n",
       "</table>\n",
       "</div>"
      ],
      "text/plain": [
       "         State   HighQ  HighQN    MedQ  MedQN    LowQ  LowQN       date  \\\n",
       "20094  Alabama  339.65    1033  198.04    926  147.15    122 2013-12-27   \n",
       "20859  Alabama  339.65    1033  198.04    926  147.15    122 2013-12-28   \n",
       "21573  Alabama  339.75    1036  198.26    929  149.49    123 2013-12-29   \n",
       "22287  Alabama  339.75    1036  198.81    930  149.49    123 2013-12-30   \n",
       "22797  Alabama  339.42    1040  198.68    932  149.49    123 2013-12-31   \n",
       "\n",
       "       Calendar_Week  \n",
       "20094             52  \n",
       "20859             52  \n",
       "21573             52  \n",
       "22287              1  \n",
       "22797              1  "
      ]
     },
     "execution_count": 63,
     "metadata": {},
     "output_type": "execute_result"
    }
   ],
   "source": [
    "#lets check if it looks fine\n",
    "csv_df_sort_fillna_ffil.head()"
   ]
  },
  {
   "cell_type": "code",
   "execution_count": 64,
   "metadata": {
    "collapsed": false
   },
   "outputs": [
    {
     "name": "stdout",
     "output_type": "stream",
     "text": [
      "Calendar_Week      1.000000\n",
      "HighQ_Mean       326.614174\n",
      "dtype: float64 Calendar_Week     52.000000\n",
      "HighQ_Mean       333.778207\n",
      "dtype: float64\n"
     ]
    }
   ],
   "source": [
    "#now let us try to group at week level and see during which week it was the lowest and for a given state\n",
    "country_week_highQ_df = pd.DataFrame(csv_df_sort_fillna_ffil.groupby(['Calendar_Week'],as_index=False).aggregate({'HighQ':{'HighQ_Mean':np.mean}}))\n",
    "country_week_highQ_df.columns = country_week_highQ_df.columns.droplevel(0)\n",
    "country_week_highQ_df = country_week_highQ_df.rename(columns={'':'Calendar_Week'})\n",
    "country_week_highQ_df.head()\n",
    "print country_week_highQ_df.min(),country_week_highQ_df.max()\n"
   ]
  },
  {
   "cell_type": "code",
   "execution_count": 65,
   "metadata": {
    "collapsed": false
   },
   "outputs": [
    {
     "name": "stdout",
     "output_type": "stream",
     "text": [
      "date          2013-12-27 00:00:00\n",
      "HighQ_Mean               322.1294\n",
      "dtype: object date          2015-06-11 00:00:00\n",
      "HighQ_Mean               335.5829\n",
      "dtype: object\n"
     ]
    }
   ],
   "source": [
    "#now let us check on which day it was the lowest across country\n",
    "country_day_highQ_df = pd.DataFrame(csv_df_sort_fillna_ffil.groupby(['date'],as_index=False).aggregate({'HighQ':{'HighQ_Mean':np.mean}}))\n",
    "country_day_highQ_df.columns = country_day_highQ_df.columns.droplevel(0)\n",
    "country_day_highQ_df = country_day_highQ_df.rename(columns={'':'date'})\n",
    "country_day_highQ_df.head()\n",
    "print country_day_highQ_df.min(),country_day_highQ_df.max()"
   ]
  },
  {
   "cell_type": "code",
   "execution_count": 66,
   "metadata": {
    "collapsed": false
   },
   "outputs": [
    {
     "name": "stdout",
     "output_type": "stream",
     "text": [
      "Calendar_Week       1.000000\n",
      "HighQN_Mean      1951.098039\n",
      "dtype: float64 Calendar_Week      52.000000\n",
      "HighQN_Mean      2522.322129\n",
      "dtype: float64\n"
     ]
    }
   ],
   "source": [
    "# now let us check when people buy the most across the country \n",
    "country_week_highQN_df = pd.DataFrame(csv_df_sort_fillna_ffil.groupby(['Calendar_Week'],as_index=False).aggregate({'HighQN':{'HighQN_Mean':np.mean}}))\n",
    "country_week_highQN_df.columns = country_week_highQN_df.columns.droplevel(0)\n",
    "country_week_highQN_df = country_week_highQN_df.rename(columns={'':'Calendar_Week'})\n",
    "country_week_highQN_df.head()\n",
    "print country_week_highQN_df.min(),country_week_highQN_df.max()"
   ]
  },
  {
   "cell_type": "code",
   "execution_count": 67,
   "metadata": {
    "collapsed": true
   },
   "outputs": [],
   "source": [
    "# The above set of statements work across the country based on date and calendar week\n",
    "# Now let us look at what happens every month by generating calendar week for a month and then see during which parts \n",
    "# of the month the price is at its highest/lowest"
   ]
  },
  {
   "cell_type": "code",
   "execution_count": 68,
   "metadata": {
    "collapsed": true
   },
   "outputs": [],
   "source": [
    "def get_calendar_week_month(date):\n",
    "    calendar_week_year = get_calendar_week(date)\n",
    "    month = date.month\n",
    "    year = date.year\n",
    "    day = date.day\n",
    "    start_of_month = str(year)+\"-\"+str(month)+\"-\"+\"01\"\n",
    "    calendar_week_start_of_month = date.isocalendar()[1]\n",
    "    # this happens only for dec\n",
    "    if(calendar_week_year > calendar_week_start_of_month):\n",
    "        return calendar_week_year - calendar_week_start_of_month + 1\n",
    "    else:\n",
    "        return calendar_week_year\n",
    "        \n"
   ]
  },
  {
   "cell_type": "code",
   "execution_count": 69,
   "metadata": {
    "collapsed": false
   },
   "outputs": [
    {
     "data": {
      "text/plain": [
       "1"
      ]
     },
     "execution_count": 69,
     "metadata": {},
     "output_type": "execute_result"
    }
   ],
   "source": [
    "# the function to generate calendar_Week_month works\n",
    "get_calendar_week_month(datetime.strptime(\"2013-12-30\",\"%Y-%m-%d\"))"
   ]
  },
  {
   "cell_type": "code",
   "execution_count": 70,
   "metadata": {
    "collapsed": false
   },
   "outputs": [],
   "source": [
    "csv_df_sort_fillna_ffil['Calendar_Week_Month'] = csv_df_sort_fillna_ffil['date'].apply(get_calendar_week_month)"
   ]
  },
  {
   "cell_type": "code",
   "execution_count": 71,
   "metadata": {
    "collapsed": false
   },
   "outputs": [
    {
     "data": {
      "text/html": [
       "<div>\n",
       "<table border=\"1\" class=\"dataframe\">\n",
       "  <thead>\n",
       "    <tr style=\"text-align: right;\">\n",
       "      <th></th>\n",
       "      <th>State</th>\n",
       "      <th>HighQ</th>\n",
       "      <th>HighQN</th>\n",
       "      <th>MedQ</th>\n",
       "      <th>MedQN</th>\n",
       "      <th>LowQ</th>\n",
       "      <th>LowQN</th>\n",
       "      <th>date</th>\n",
       "      <th>Calendar_Week</th>\n",
       "      <th>Calendar_Week_Month</th>\n",
       "    </tr>\n",
       "  </thead>\n",
       "  <tbody>\n",
       "    <tr>\n",
       "      <th>20094</th>\n",
       "      <td>Alabama</td>\n",
       "      <td>339.65</td>\n",
       "      <td>1033</td>\n",
       "      <td>198.04</td>\n",
       "      <td>926</td>\n",
       "      <td>147.15</td>\n",
       "      <td>122</td>\n",
       "      <td>2013-12-27</td>\n",
       "      <td>52</td>\n",
       "      <td>52</td>\n",
       "    </tr>\n",
       "    <tr>\n",
       "      <th>20859</th>\n",
       "      <td>Alabama</td>\n",
       "      <td>339.65</td>\n",
       "      <td>1033</td>\n",
       "      <td>198.04</td>\n",
       "      <td>926</td>\n",
       "      <td>147.15</td>\n",
       "      <td>122</td>\n",
       "      <td>2013-12-28</td>\n",
       "      <td>52</td>\n",
       "      <td>52</td>\n",
       "    </tr>\n",
       "    <tr>\n",
       "      <th>21573</th>\n",
       "      <td>Alabama</td>\n",
       "      <td>339.75</td>\n",
       "      <td>1036</td>\n",
       "      <td>198.26</td>\n",
       "      <td>929</td>\n",
       "      <td>149.49</td>\n",
       "      <td>123</td>\n",
       "      <td>2013-12-29</td>\n",
       "      <td>52</td>\n",
       "      <td>52</td>\n",
       "    </tr>\n",
       "    <tr>\n",
       "      <th>22287</th>\n",
       "      <td>Alabama</td>\n",
       "      <td>339.75</td>\n",
       "      <td>1036</td>\n",
       "      <td>198.81</td>\n",
       "      <td>930</td>\n",
       "      <td>149.49</td>\n",
       "      <td>123</td>\n",
       "      <td>2013-12-30</td>\n",
       "      <td>1</td>\n",
       "      <td>1</td>\n",
       "    </tr>\n",
       "    <tr>\n",
       "      <th>22797</th>\n",
       "      <td>Alabama</td>\n",
       "      <td>339.42</td>\n",
       "      <td>1040</td>\n",
       "      <td>198.68</td>\n",
       "      <td>932</td>\n",
       "      <td>149.49</td>\n",
       "      <td>123</td>\n",
       "      <td>2013-12-31</td>\n",
       "      <td>1</td>\n",
       "      <td>1</td>\n",
       "    </tr>\n",
       "  </tbody>\n",
       "</table>\n",
       "</div>"
      ],
      "text/plain": [
       "         State   HighQ  HighQN    MedQ  MedQN    LowQ  LowQN       date  \\\n",
       "20094  Alabama  339.65    1033  198.04    926  147.15    122 2013-12-27   \n",
       "20859  Alabama  339.65    1033  198.04    926  147.15    122 2013-12-28   \n",
       "21573  Alabama  339.75    1036  198.26    929  149.49    123 2013-12-29   \n",
       "22287  Alabama  339.75    1036  198.81    930  149.49    123 2013-12-30   \n",
       "22797  Alabama  339.42    1040  198.68    932  149.49    123 2013-12-31   \n",
       "\n",
       "       Calendar_Week  Calendar_Week_Month  \n",
       "20094             52                   52  \n",
       "20859             52                   52  \n",
       "21573             52                   52  \n",
       "22287              1                    1  \n",
       "22797              1                    1  "
      ]
     },
     "execution_count": 71,
     "metadata": {},
     "output_type": "execute_result"
    }
   ],
   "source": [
    "csv_df_sort_fillna_ffil.head()"
   ]
  },
  {
   "cell_type": "code",
   "execution_count": 72,
   "metadata": {
    "collapsed": false
   },
   "outputs": [
    {
     "name": "stdout",
     "output_type": "stream",
     "text": [
      "Calendar_Week_Month      1.000000\n",
      "HighQ_Mean             326.614174\n",
      "dtype: float64\n",
      "Calendar_Week_Month     52.000000\n",
      "HighQ_Mean             333.778207\n",
      "dtype: float64\n"
     ]
    }
   ],
   "source": [
    "#now let us try to group at week level and see during which week it was the lowest and for a given state\n",
    "country_month_week_highQ_df = pd.DataFrame(csv_df_sort_fillna_ffil.groupby(['Calendar_Week_Month'],as_index=False).aggregate({'HighQ':{'HighQ_Mean':np.mean}}))\n",
    "country_month_week_highQ_df.columns = country_month_week_highQ_df.columns.droplevel(0)\n",
    "country_month_week_highQ_df = country_month_week_highQ_df.rename(columns={'':'Calendar_Week_Month'})\n",
    "country_month_week_highQ_df.head()\n",
    "print  country_month_week_highQ_df.min()\n",
    "print country_month_week_highQ_df.max()"
   ]
  },
  {
   "cell_type": "code",
   "execution_count": 73,
   "metadata": {
    "collapsed": false
   },
   "outputs": [
    {
     "data": {
      "text/plain": [
       "Index([u'State', u'HighQ', u'HighQN', u'MedQ', u'MedQN', u'LowQ', u'LowQN',\n",
       "       u'date', u'Calendar_Week', u'Calendar_Week_Month'],\n",
       "      dtype='object')"
      ]
     },
     "execution_count": 73,
     "metadata": {},
     "output_type": "execute_result"
    }
   ],
   "source": [
    "csv_df_sort_fillna_ffil.columns"
   ]
  },
  {
   "cell_type": "markdown",
   "metadata": {},
   "source": [
    "# Using linear regression to predict values"
   ]
  },
  {
   "cell_type": "code",
   "execution_count": 74,
   "metadata": {
    "collapsed": false
   },
   "outputs": [
    {
     "data": {
      "text/plain": [
       "State            object\n",
       "HighQ           float64\n",
       "date     datetime64[ns]\n",
       "dtype: object"
      ]
     },
     "execution_count": 74,
     "metadata": {},
     "output_type": "execute_result"
    }
   ],
   "source": [
    "#now we have some insights into the data , let us take the next step and use a liner regression model to predict the \n",
    "# prices of marijuana for the state alabama\n",
    "columns_required = ['State','HighQ','date']\n",
    "alabama_state = csv_df_sort_fillna_ffil[csv_df_sort_fillna_ffil['State'] == \"Alabama\"]\n",
    "alabama_state_price_date = alabama_state.ix[:,columns_required]\n",
    "alabama_state_price_date.dtypes"
   ]
  },
  {
   "cell_type": "code",
   "execution_count": 75,
   "metadata": {
    "collapsed": false
   },
   "outputs": [],
   "source": [
    "train,test = train_test_split(alabama_state_price_date,test_size = 0.2)"
   ]
  },
  {
   "cell_type": "code",
   "execution_count": 76,
   "metadata": {
    "collapsed": true
   },
   "outputs": [],
   "source": [
    "def changeDateToOrdinal(date):\n",
    "    return date.toordinal()"
   ]
  },
  {
   "cell_type": "code",
   "execution_count": 77,
   "metadata": {
    "collapsed": false
   },
   "outputs": [
    {
     "data": {
      "text/html": [
       "<div>\n",
       "<table border=\"1\" class=\"dataframe\">\n",
       "  <thead>\n",
       "    <tr style=\"text-align: right;\">\n",
       "      <th></th>\n",
       "      <th>State</th>\n",
       "      <th>Price</th>\n",
       "      <th>Date</th>\n",
       "      <th>Date_ord</th>\n",
       "    </tr>\n",
       "  </thead>\n",
       "  <tbody>\n",
       "    <tr>\n",
       "      <th>0</th>\n",
       "      <td>1</td>\n",
       "      <td>338.61</td>\n",
       "      <td>2014-10-26 00:00:00</td>\n",
       "      <td>735532</td>\n",
       "    </tr>\n",
       "    <tr>\n",
       "      <th>1</th>\n",
       "      <td>1</td>\n",
       "      <td>339.96</td>\n",
       "      <td>2014-01-19 00:00:00</td>\n",
       "      <td>735252</td>\n",
       "    </tr>\n",
       "    <tr>\n",
       "      <th>2</th>\n",
       "      <td>1</td>\n",
       "      <td>340.32</td>\n",
       "      <td>2014-08-08 00:00:00</td>\n",
       "      <td>735453</td>\n",
       "    </tr>\n",
       "    <tr>\n",
       "      <th>3</th>\n",
       "      <td>1</td>\n",
       "      <td>339.13</td>\n",
       "      <td>2014-11-16 00:00:00</td>\n",
       "      <td>735553</td>\n",
       "    </tr>\n",
       "    <tr>\n",
       "      <th>4</th>\n",
       "      <td>1</td>\n",
       "      <td>341.17</td>\n",
       "      <td>2014-03-24 00:00:00</td>\n",
       "      <td>735316</td>\n",
       "    </tr>\n",
       "  </tbody>\n",
       "</table>\n",
       "</div>"
      ],
      "text/plain": [
       "   State   Price                 Date  Date_ord\n",
       "0      1  338.61  2014-10-26 00:00:00    735532\n",
       "1      1  339.96  2014-01-19 00:00:00    735252\n",
       "2      1  340.32  2014-08-08 00:00:00    735453\n",
       "3      1  339.13  2014-11-16 00:00:00    735553\n",
       "4      1  341.17  2014-03-24 00:00:00    735316"
      ]
     },
     "execution_count": 77,
     "metadata": {},
     "output_type": "execute_result"
    }
   ],
   "source": [
    "train_pd = pd.DataFrame(train,columns=['State','Price','Date'])\n",
    "train_pd['State'] = 1\n",
    "train_pd['Price'] = train_pd['Price'].astype(float)\n",
    "train_pd['Date_ord'] = train_pd['Date'].apply(changeDateToOrdinal)\n",
    "\n",
    "train_pd.head()"
   ]
  },
  {
   "cell_type": "code",
   "execution_count": 78,
   "metadata": {
    "collapsed": false
   },
   "outputs": [
    {
     "data": {
      "text/html": [
       "<div>\n",
       "<table border=\"1\" class=\"dataframe\">\n",
       "  <thead>\n",
       "    <tr style=\"text-align: right;\">\n",
       "      <th></th>\n",
       "      <th>State</th>\n",
       "      <th>Price</th>\n",
       "      <th>Date</th>\n",
       "      <th>Date_ord</th>\n",
       "    </tr>\n",
       "  </thead>\n",
       "  <tbody>\n",
       "    <tr>\n",
       "      <th>0</th>\n",
       "      <td>1</td>\n",
       "      <td>338.61</td>\n",
       "      <td>2014-10-26 00:00:00</td>\n",
       "      <td>735532</td>\n",
       "    </tr>\n",
       "    <tr>\n",
       "      <th>1</th>\n",
       "      <td>1</td>\n",
       "      <td>339.96</td>\n",
       "      <td>2014-01-19 00:00:00</td>\n",
       "      <td>735252</td>\n",
       "    </tr>\n",
       "    <tr>\n",
       "      <th>2</th>\n",
       "      <td>1</td>\n",
       "      <td>340.32</td>\n",
       "      <td>2014-08-08 00:00:00</td>\n",
       "      <td>735453</td>\n",
       "    </tr>\n",
       "    <tr>\n",
       "      <th>3</th>\n",
       "      <td>1</td>\n",
       "      <td>339.13</td>\n",
       "      <td>2014-11-16 00:00:00</td>\n",
       "      <td>735553</td>\n",
       "    </tr>\n",
       "    <tr>\n",
       "      <th>4</th>\n",
       "      <td>1</td>\n",
       "      <td>341.17</td>\n",
       "      <td>2014-03-24 00:00:00</td>\n",
       "      <td>735316</td>\n",
       "    </tr>\n",
       "  </tbody>\n",
       "</table>\n",
       "</div>"
      ],
      "text/plain": [
       "   State   Price                 Date  Date_ord\n",
       "0      1  338.61  2014-10-26 00:00:00    735532\n",
       "1      1  339.96  2014-01-19 00:00:00    735252\n",
       "2      1  340.32  2014-08-08 00:00:00    735453\n",
       "3      1  339.13  2014-11-16 00:00:00    735553\n",
       "4      1  341.17  2014-03-24 00:00:00    735316"
      ]
     },
     "execution_count": 78,
     "metadata": {},
     "output_type": "execute_result"
    }
   ],
   "source": [
    "train_pd.head()"
   ]
  },
  {
   "cell_type": "code",
   "execution_count": 79,
   "metadata": {
    "collapsed": false
   },
   "outputs": [],
   "source": [
    "test_pd = pd.DataFrame(test,columns=['State','Price','Date'])\n",
    "test_pd['State'] =1\n",
    "test_pd['Price'] = test_pd['Price'].astype(float)\n",
    "test_pd['Date_ord'] = test_pd['Date'].apply(changeDateToOrdinal)\n",
    "\n"
   ]
  },
  {
   "cell_type": "code",
   "execution_count": 80,
   "metadata": {
    "collapsed": false
   },
   "outputs": [
    {
     "name": "stdout",
     "output_type": "stream",
     "text": [
      "   State   Price                 Date  Date_ord\n",
      "0      1  338.61  2014-10-26 00:00:00    735532\n",
      "1      1  339.96  2014-01-19 00:00:00    735252\n",
      "2      1  340.32  2014-08-08 00:00:00    735453\n",
      "3      1  339.13  2014-11-16 00:00:00    735553\n",
      "4      1  341.17  2014-03-24 00:00:00    735316\n",
      "   State   Price                 Date  Date_ord\n",
      "0      1  340.63  2014-06-04 00:00:00    735388\n",
      "1      1  340.52  2014-06-01 00:00:00    735385\n",
      "2      1  337.32  2015-06-10 00:00:00    735759\n",
      "3      1  339.92  2014-02-14 00:00:00    735278\n",
      "4      1  340.67  2014-09-08 00:00:00    735484\n"
     ]
    },
    {
     "data": {
      "text/plain": [
       "State         int64\n",
       "Price       float64\n",
       "Date         object\n",
       "Date_ord      int64\n",
       "dtype: object"
      ]
     },
     "execution_count": 80,
     "metadata": {},
     "output_type": "execute_result"
    }
   ],
   "source": [
    "print train_pd.head()\n",
    "train_pd.dtypes\n",
    "\n",
    "print test_pd.head()\n",
    "test_pd.dtypes"
   ]
  },
  {
   "cell_type": "code",
   "execution_count": 81,
   "metadata": {
    "collapsed": false
   },
   "outputs": [
    {
     "name": "stdout",
     "output_type": "stream",
     "text": [
      "State       int64\n",
      "Date_ord    int64\n",
      "dtype: object Price    float64\n",
      "dtype: object\n"
     ]
    },
    {
     "data": {
      "text/html": [
       "<div>\n",
       "<table border=\"1\" class=\"dataframe\">\n",
       "  <thead>\n",
       "    <tr style=\"text-align: right;\">\n",
       "      <th></th>\n",
       "      <th>State</th>\n",
       "      <th>Date_ord</th>\n",
       "    </tr>\n",
       "  </thead>\n",
       "  <tbody>\n",
       "    <tr>\n",
       "      <th>0</th>\n",
       "      <td>1</td>\n",
       "      <td>735532</td>\n",
       "    </tr>\n",
       "    <tr>\n",
       "      <th>1</th>\n",
       "      <td>1</td>\n",
       "      <td>735252</td>\n",
       "    </tr>\n",
       "    <tr>\n",
       "      <th>2</th>\n",
       "      <td>1</td>\n",
       "      <td>735453</td>\n",
       "    </tr>\n",
       "    <tr>\n",
       "      <th>3</th>\n",
       "      <td>1</td>\n",
       "      <td>735553</td>\n",
       "    </tr>\n",
       "    <tr>\n",
       "      <th>4</th>\n",
       "      <td>1</td>\n",
       "      <td>735316</td>\n",
       "    </tr>\n",
       "  </tbody>\n",
       "</table>\n",
       "</div>"
      ],
      "text/plain": [
       "   State  Date_ord\n",
       "0      1    735532\n",
       "1      1    735252\n",
       "2      1    735453\n",
       "3      1    735553\n",
       "4      1    735316"
      ]
     },
     "execution_count": 81,
     "metadata": {},
     "output_type": "execute_result"
    }
   ],
   "source": [
    "x_train = train_pd.ix[:,['State','Date_ord']]\n",
    "y_train = train_pd.ix[:,['Price']]\n",
    "print x_train.dtypes,y_train.dtypes\n",
    "x_test = test_pd.ix[:,['State','Date_ord']]\n",
    "y_test = test_pd.ix[:,['Price']]\n",
    "x_train.head()"
   ]
  },
  {
   "cell_type": "code",
   "execution_count": 82,
   "metadata": {
    "collapsed": false
   },
   "outputs": [
    {
     "data": {
      "text/plain": [
       "Price    float64\n",
       "dtype: object"
      ]
     },
     "execution_count": 82,
     "metadata": {},
     "output_type": "execute_result"
    }
   ],
   "source": [
    "y_train.head()\n",
    "y_train.dtypes"
   ]
  },
  {
   "cell_type": "code",
   "execution_count": 83,
   "metadata": {
    "collapsed": false
   },
   "outputs": [
    {
     "name": "stdout",
     "output_type": "stream",
     "text": [
      "   State  Date_ord\n",
      "0      1    735532\n",
      "1      1    735252\n",
      "2      1    735453\n",
      "3      1    735553\n",
      "4      1    735316\n"
     ]
    },
    {
     "data": {
      "text/plain": [
       "State       int64\n",
       "Date_ord    int64\n",
       "dtype: object"
      ]
     },
     "execution_count": 83,
     "metadata": {},
     "output_type": "execute_result"
    }
   ],
   "source": [
    "print x_train.head()\n",
    "x_train.dtypes"
   ]
  },
  {
   "cell_type": "code",
   "execution_count": 84,
   "metadata": {
    "collapsed": false
   },
   "outputs": [
    {
     "name": "stdout",
     "output_type": "stream",
     "text": [
      "[[ 0.        -0.0078273]]\n"
     ]
    }
   ],
   "source": [
    "ols = linear_model.LinearRegression(normalize=True, fit_intercept=True)\n",
    "ols.fit(x_train, y_train, n_jobs=-1)\n",
    " \n",
    "print ols.coef_\n",
    "ols_predict = ols.predict(x_test)\n",
    " \n",
    "#print ols_predict\n",
    "#Setting 0.5 as the decision boundary. If values are above 0.5, the prediction is set to 1. This means the record belongs to class 2. Else, the prediction is set to 0\n",
    " \n",
    "test_pd['Predicted_Price'] = ols_predict"
   ]
  },
  {
   "cell_type": "code",
   "execution_count": 85,
   "metadata": {
    "collapsed": false
   },
   "outputs": [
    {
     "data": {
      "text/html": [
       "<div>\n",
       "<table border=\"1\" class=\"dataframe\">\n",
       "  <thead>\n",
       "    <tr style=\"text-align: right;\">\n",
       "      <th></th>\n",
       "      <th>State</th>\n",
       "      <th>Price</th>\n",
       "      <th>Date</th>\n",
       "      <th>Date_ord</th>\n",
       "      <th>Predicted_Price</th>\n",
       "    </tr>\n",
       "  </thead>\n",
       "  <tbody>\n",
       "    <tr>\n",
       "      <th>0</th>\n",
       "      <td>1</td>\n",
       "      <td>340.63</td>\n",
       "      <td>2014-06-04 00:00:00</td>\n",
       "      <td>735388</td>\n",
       "      <td>340.103428</td>\n",
       "    </tr>\n",
       "    <tr>\n",
       "      <th>1</th>\n",
       "      <td>1</td>\n",
       "      <td>340.52</td>\n",
       "      <td>2014-06-01 00:00:00</td>\n",
       "      <td>735385</td>\n",
       "      <td>340.126909</td>\n",
       "    </tr>\n",
       "    <tr>\n",
       "      <th>2</th>\n",
       "      <td>1</td>\n",
       "      <td>337.32</td>\n",
       "      <td>2015-06-10 00:00:00</td>\n",
       "      <td>735759</td>\n",
       "      <td>337.199499</td>\n",
       "    </tr>\n",
       "    <tr>\n",
       "      <th>3</th>\n",
       "      <td>1</td>\n",
       "      <td>339.92</td>\n",
       "      <td>2014-02-14 00:00:00</td>\n",
       "      <td>735278</td>\n",
       "      <td>340.964431</td>\n",
       "    </tr>\n",
       "    <tr>\n",
       "      <th>4</th>\n",
       "      <td>1</td>\n",
       "      <td>340.67</td>\n",
       "      <td>2014-09-08 00:00:00</td>\n",
       "      <td>735484</td>\n",
       "      <td>339.352007</td>\n",
       "    </tr>\n",
       "  </tbody>\n",
       "</table>\n",
       "</div>"
      ],
      "text/plain": [
       "   State   Price                 Date  Date_ord  Predicted_Price\n",
       "0      1  340.63  2014-06-04 00:00:00    735388       340.103428\n",
       "1      1  340.52  2014-06-01 00:00:00    735385       340.126909\n",
       "2      1  337.32  2015-06-10 00:00:00    735759       337.199499\n",
       "3      1  339.92  2014-02-14 00:00:00    735278       340.964431\n",
       "4      1  340.67  2014-09-08 00:00:00    735484       339.352007"
      ]
     },
     "execution_count": 85,
     "metadata": {},
     "output_type": "execute_result"
    }
   ],
   "source": [
    "test_pd.head()"
   ]
  },
  {
   "cell_type": "code",
   "execution_count": null,
   "metadata": {
    "collapsed": true
   },
   "outputs": [],
   "source": []
  }
 ],
 "metadata": {
  "kernelspec": {
   "display_name": "Python 2",
   "language": "python",
   "name": "python2"
  },
  "language_info": {
   "codemirror_mode": {
    "name": "ipython",
    "version": 2
   },
   "file_extension": ".py",
   "mimetype": "text/x-python",
   "name": "python",
   "nbconvert_exporter": "python",
   "pygments_lexer": "ipython2",
   "version": "2.7.10"
  }
 },
 "nbformat": 4,
 "nbformat_minor": 0
}
